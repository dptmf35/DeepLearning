{
 "cells": [
  {
   "cell_type": "code",
   "execution_count": 28,
   "metadata": {
    "scrolled": false
   },
   "outputs": [],
   "source": [
    "import matplotlib.pyplot as plt\n",
    "from tensorflow.keras.datasets import mnist\n",
    "from tensorflow.keras.layers import Dense\n",
    "from tensorflow.keras.models import Sequential\n",
    "from tensorflow.keras.optimizers import Adam"
   ]
  },
  {
   "cell_type": "code",
   "execution_count": 29,
   "metadata": {},
   "outputs": [],
   "source": [
    "data = mnist.load_data()"
   ]
  },
  {
   "cell_type": "code",
   "execution_count": 30,
   "metadata": {},
   "outputs": [],
   "source": [
    "((X_train, y_train), (X_test, y_test)) = data"
   ]
  },
  {
   "cell_type": "code",
   "execution_count": 31,
   "metadata": {},
   "outputs": [
    {
     "name": "stdout",
     "output_type": "stream",
     "text": [
      "(60000, 28, 28)\n",
      "(60000,)\n",
      "(10000, 28, 28)\n",
      "(10000,)\n"
     ]
    }
   ],
   "source": [
    "print(X_train.shape)\n",
    "print(y_train.shape)\n",
    "print(X_test.shape)\n",
    "print(y_test.shape)"
   ]
  },
  {
   "cell_type": "code",
   "execution_count": 32,
   "metadata": {},
   "outputs": [
    {
     "data": {
      "text/plain": [
       "<matplotlib.image.AxesImage at 0x1a471840cc0>"
      ]
     },
     "execution_count": 32,
     "metadata": {},
     "output_type": "execute_result"
    },
    {
     "data": {
      "image/png": "[encoded data removed]",
      "text/plain": [
       "<Figure size 432x288 with 1 Axes>"
      ]
     },
     "metadata": {
      "needs_background": "light"
     },
     "output_type": "display_data"
    }
   ],
   "source": [
    "plt.imshow(X_train[15000], cmap= 'gray')"
   ]
  },
  {
   "cell_type": "code",
   "execution_count": 33,
   "metadata": {},
   "outputs": [
    {
     "data": {
      "text/plain": [
       "5"
      ]
     },
     "execution_count": 33,
     "metadata": {},
     "output_type": "execute_result"
    }
   ],
   "source": [
    "y_train[15000]"
   ]
  },
  {
   "cell_type": "code",
   "execution_count": 34,
   "metadata": {},
   "outputs": [
    {
     "data": {
      "image/png": "[encoded data removed]",
      "text/plain": [
       "<Figure size 432x288 with 1 Axes>"
      ]
     },
     "metadata": {
      "needs_background": "light"
     },
     "output_type": "display_data"
    }
   ],
   "source": [
    "plt.hist(X_train[15000].reshape(-1))\n",
    "plt.show()"
   ]
  },
  {
   "cell_type": "markdown",
   "metadata": {},
   "source": [
    "### 데이터셋준비"
   ]
  },
  {
   "cell_type": "markdown",
   "metadata": {},
   "source": [
    "#### 1. X데이터가 현재 2차원으로 되어있다. (28, 28) --> 1차원으로 펴줘야 한다"
   ]
  },
  {
   "cell_type": "code",
   "execution_count": 35,
   "metadata": {},
   "outputs": [],
   "source": [
    "X_train_reshape = X_train.reshape(60000, -1)\n",
    "X_test_reshape = X_test.reshape(10000, -1)"
   ]
  },
  {
   "cell_type": "markdown",
   "metadata": {},
   "source": [
    "#### 정답 데이터(0 - 9)"
   ]
  },
  {
   "cell_type": "code",
   "execution_count": 36,
   "metadata": {},
   "outputs": [],
   "source": [
    "import numpy as np\n",
    "import pandas as pd"
   ]
  },
  {
   "cell_type": "code",
   "execution_count": 37,
   "metadata": {},
   "outputs": [
    {
     "data": {
      "text/plain": [
       "array([0, 1, 2, 3, 4, 5, 6, 7, 8, 9], dtype=uint8)"
      ]
     },
     "execution_count": 37,
     "metadata": {},
     "output_type": "execute_result"
    }
   ],
   "source": [
    "np.unique(y_train)"
   ]
  },
  {
   "cell_type": "code",
   "execution_count": 38,
   "metadata": {},
   "outputs": [],
   "source": [
    "y_train_one_hot = pd.get_dummies(y_train)\n",
    "y_test_one_hot = pd.get_dummies(y_test)"
   ]
  },
  {
   "cell_type": "code",
   "execution_count": 39,
   "metadata": {},
   "outputs": [
    {
     "data": {
      "text/html": [
       "<div>\n",
       "<style scoped>\n",
       "    .dataframe tbody tr th:only-of-type {\n",
       "        vertical-align: middle;\n",
       "    }\n",
       "\n",
       "    .dataframe tbody tr th {\n",
       "        vertical-align: top;\n",
       "    }\n",
       "\n",
       "    .dataframe thead th {\n",
       "        text-align: right;\n",
       "    }\n",
       "</style>\n",
       "<table border=\"1\" class=\"dataframe\">\n",
       "  <thead>\n",
       "    <tr style=\"text-align: right;\">\n",
       "      <th></th>\n",
       "      <th>0</th>\n",
       "      <th>1</th>\n",
       "      <th>2</th>\n",
       "      <th>3</th>\n",
       "      <th>4</th>\n",
       "      <th>5</th>\n",
       "      <th>6</th>\n",
       "      <th>7</th>\n",
       "      <th>8</th>\n",
       "      <th>9</th>\n",
       "    </tr>\n",
       "  </thead>\n",
       "  <tbody>\n",
       "    <tr>\n",
       "      <th>0</th>\n",
       "      <td>0</td>\n",
       "      <td>0</td>\n",
       "      <td>0</td>\n",
       "      <td>0</td>\n",
       "      <td>0</td>\n",
       "      <td>1</td>\n",
       "      <td>0</td>\n",
       "      <td>0</td>\n",
       "      <td>0</td>\n",
       "      <td>0</td>\n",
       "    </tr>\n",
       "    <tr>\n",
       "      <th>1</th>\n",
       "      <td>1</td>\n",
       "      <td>0</td>\n",
       "      <td>0</td>\n",
       "      <td>0</td>\n",
       "      <td>0</td>\n",
       "      <td>0</td>\n",
       "      <td>0</td>\n",
       "      <td>0</td>\n",
       "      <td>0</td>\n",
       "      <td>0</td>\n",
       "    </tr>\n",
       "    <tr>\n",
       "      <th>2</th>\n",
       "      <td>0</td>\n",
       "      <td>0</td>\n",
       "      <td>0</td>\n",
       "      <td>0</td>\n",
       "      <td>1</td>\n",
       "      <td>0</td>\n",
       "      <td>0</td>\n",
       "      <td>0</td>\n",
       "      <td>0</td>\n",
       "      <td>0</td>\n",
       "    </tr>\n",
       "    <tr>\n",
       "      <th>3</th>\n",
       "      <td>0</td>\n",
       "      <td>1</td>\n",
       "      <td>0</td>\n",
       "      <td>0</td>\n",
       "      <td>0</td>\n",
       "      <td>0</td>\n",
       "      <td>0</td>\n",
       "      <td>0</td>\n",
       "      <td>0</td>\n",
       "      <td>0</td>\n",
       "    </tr>\n",
       "    <tr>\n",
       "      <th>4</th>\n",
       "      <td>0</td>\n",
       "      <td>0</td>\n",
       "      <td>0</td>\n",
       "      <td>0</td>\n",
       "      <td>0</td>\n",
       "      <td>0</td>\n",
       "      <td>0</td>\n",
       "      <td>0</td>\n",
       "      <td>0</td>\n",
       "      <td>1</td>\n",
       "    </tr>\n",
       "    <tr>\n",
       "      <th>...</th>\n",
       "      <td>...</td>\n",
       "      <td>...</td>\n",
       "      <td>...</td>\n",
       "      <td>...</td>\n",
       "      <td>...</td>\n",
       "      <td>...</td>\n",
       "      <td>...</td>\n",
       "      <td>...</td>\n",
       "      <td>...</td>\n",
       "      <td>...</td>\n",
       "    </tr>\n",
       "    <tr>\n",
       "      <th>59995</th>\n",
       "      <td>0</td>\n",
       "      <td>0</td>\n",
       "      <td>0</td>\n",
       "      <td>0</td>\n",
       "      <td>0</td>\n",
       "      <td>0</td>\n",
       "      <td>0</td>\n",
       "      <td>0</td>\n",
       "      <td>1</td>\n",
       "      <td>0</td>\n",
       "    </tr>\n",
       "    <tr>\n",
       "      <th>59996</th>\n",
       "      <td>0</td>\n",
       "      <td>0</td>\n",
       "      <td>0</td>\n",
       "      <td>1</td>\n",
       "      <td>0</td>\n",
       "      <td>0</td>\n",
       "      <td>0</td>\n",
       "      <td>0</td>\n",
       "      <td>0</td>\n",
       "      <td>0</td>\n",
       "    </tr>\n",
       "    <tr>\n",
       "      <th>59997</th>\n",
       "      <td>0</td>\n",
       "      <td>0</td>\n",
       "      <td>0</td>\n",
       "      <td>0</td>\n",
       "      <td>0</td>\n",
       "      <td>1</td>\n",
       "      <td>0</td>\n",
       "      <td>0</td>\n",
       "      <td>0</td>\n",
       "      <td>0</td>\n",
       "    </tr>\n",
       "    <tr>\n",
       "      <th>59998</th>\n",
       "      <td>0</td>\n",
       "      <td>0</td>\n",
       "      <td>0</td>\n",
       "      <td>0</td>\n",
       "      <td>0</td>\n",
       "      <td>0</td>\n",
       "      <td>1</td>\n",
       "      <td>0</td>\n",
       "      <td>0</td>\n",
       "      <td>0</td>\n",
       "    </tr>\n",
       "    <tr>\n",
       "      <th>59999</th>\n",
       "      <td>0</td>\n",
       "      <td>0</td>\n",
       "      <td>0</td>\n",
       "      <td>0</td>\n",
       "      <td>0</td>\n",
       "      <td>0</td>\n",
       "      <td>0</td>\n",
       "      <td>0</td>\n",
       "      <td>1</td>\n",
       "      <td>0</td>\n",
       "    </tr>\n",
       "  </tbody>\n",
       "</table>\n",
       "<p>60000 rows × 10 columns</p>\n",
       "</div>"
      ],
      "text/plain": [
       "       0  1  2  3  4  5  6  7  8  9\n",
       "0      0  0  0  0  0  1  0  0  0  0\n",
       "1      1  0  0  0  0  0  0  0  0  0\n",
       "2      0  0  0  0  1  0  0  0  0  0\n",
       "3      0  1  0  0  0  0  0  0  0  0\n",
       "4      0  0  0  0  0  0  0  0  0  1\n",
       "...   .. .. .. .. .. .. .. .. .. ..\n",
       "59995  0  0  0  0  0  0  0  0  1  0\n",
       "59996  0  0  0  1  0  0  0  0  0  0\n",
       "59997  0  0  0  0  0  1  0  0  0  0\n",
       "59998  0  0  0  0  0  0  1  0  0  0\n",
       "59999  0  0  0  0  0  0  0  0  1  0\n",
       "\n",
       "[60000 rows x 10 columns]"
      ]
     },
     "execution_count": 39,
     "metadata": {},
     "output_type": "execute_result"
    }
   ],
   "source": [
    "y_train_one_hot"
   ]
  },
  {
   "cell_type": "code",
   "execution_count": 70,
   "metadata": {},
   "outputs": [],
   "source": [
    "import numpy as np\n",
    "import tensorflow\n",
    "\n",
    "np.random.seed(0)\n",
    "tensorflow.random.set_seed(0)"
   ]
  },
  {
   "cell_type": "markdown",
   "metadata": {},
   "source": [
    "#### 모델 생성\n",
    "- input_dim : 입력하는 데이터 모양을 고려\n",
    "- 출력층의 퍼셉트론 개수"
   ]
  },
  {
   "cell_type": "code",
   "execution_count": 121,
   "metadata": {},
   "outputs": [
    {
     "name": "stdout",
     "output_type": "stream",
     "text": [
      "Model: \"sequential_18\"\n",
      "_________________________________________________________________\n",
      "Layer (type)                 Output Shape              Param #   \n",
      "=================================================================\n",
      "dense_100 (Dense)            (None, 256)               200960    \n",
      "_________________________________________________________________\n",
      "dense_101 (Dense)            (None, 128)               32896     \n",
      "_________________________________________________________________\n",
      "dense_102 (Dense)            (None, 64)                8256      \n",
      "_________________________________________________________________\n",
      "dense_103 (Dense)            (None, 32)                2080      \n",
      "_________________________________________________________________\n",
      "dense_104 (Dense)            (None, 16)                528       \n",
      "_________________________________________________________________\n",
      "dense_105 (Dense)            (None, 10)                170       \n",
      "=================================================================\n",
      "Total params: 244,890\n",
      "Trainable params: 244,890\n",
      "Non-trainable params: 0\n",
      "_________________________________________________________________\n"
     ]
    }
   ],
   "source": [
    "# 1. 모델 구조 생성\n",
    "model = Sequential()\n",
    "model.add(Dense(256 ,input_dim =  784, activation='relu')) # 사진 갯수 784\n",
    "\n",
    "model.add(Dense(128, activation='relu'))\n",
    "model.add(Dense(64, activation='relu'))\n",
    "model.add(Dense(32, activation='relu'))\n",
    "model.add(Dense(16, activation='relu'))\n",
    "\n",
    "model.add(Dense(10, activation='softmax'))\n",
    "model.summary()"
   ]
  },
  {
   "cell_type": "code",
   "execution_count": 122,
   "metadata": {},
   "outputs": [],
   "source": [
    "# 2. 모델 학습 방법 / 평가 방법\n",
    "model.compile(loss='categorical_crossentropy', optimizer = Adam(lr = 0.001), metrics =['accuracy'] )"
   ]
  },
  {
   "cell_type": "code",
   "execution_count": 123,
   "metadata": {},
   "outputs": [],
   "source": [
    "#model.fit(X_train_reshape, y_train_one_hot, epochs = 100, validation_split = 0.2 ) \n",
    "# 0.2 퍼센트 데이터를 검증용으로 사용"
   ]
  },
  {
   "cell_type": "code",
   "execution_count": 124,
   "metadata": {},
   "outputs": [
    {
     "name": "stdout",
     "output_type": "stream",
     "text": [
      "Train on 48000 samples, validate on 12000 samples\n",
      "Epoch 1/2000\n",
      "47136/48000 [============================>.] - ETA: 0s - loss: 0.8913 - accuracy: 0.8194\n",
      "Epoch 00001: val_accuracy improved from 0.10600 to 0.91783, saving model to .\\model\\mnist_001-0.9178.hd5\n",
      "INFO:tensorflow:Assets written to: .\\model\\mnist_001-0.9178.hd5\\assets\n",
      "48000/48000 [==============================] - 5s 95us/sample - loss: 0.8806 - accuracy: 0.8213 - val_loss: 0.3329 - val_accuracy: 0.9178\n",
      "Epoch 2/2000\n",
      "47200/48000 [============================>.] - ETA: 0s - loss: 0.2379 - accuracy: 0.9366\n",
      "Epoch 00002: val_accuracy improved from 0.91783 to 0.93633, saving model to .\\model\\mnist_002-0.9363.hd5\n",
      "INFO:tensorflow:Assets written to: .\\model\\mnist_002-0.9363.hd5\\assets\n",
      "48000/48000 [==============================] - 4s 81us/sample - loss: 0.2364 - accuracy: 0.9369 - val_loss: 0.2353 - val_accuracy: 0.9363\n",
      "Epoch 3/2000\n",
      "47296/48000 [============================>.] - ETA: 0s - loss: 0.1772 - accuracy: 0.9520\n",
      "Epoch 00003: val_accuracy improved from 0.93633 to 0.95717, saving model to .\\model\\mnist_003-0.9572.hd5\n",
      "INFO:tensorflow:Assets written to: .\\model\\mnist_003-0.9572.hd5\\assets\n",
      "48000/48000 [==============================] - 4s 78us/sample - loss: 0.1764 - accuracy: 0.9522 - val_loss: 0.1619 - val_accuracy: 0.9572\n",
      "Epoch 4/2000\n",
      "47936/48000 [============================>.] - ETA: 0s - loss: 0.1335 - accuracy: 0.9635\n",
      "Epoch 00004: val_accuracy did not improve from 0.95717\n",
      "48000/48000 [==============================] - 3s 61us/sample - loss: 0.1335 - accuracy: 0.9635 - val_loss: 0.1776 - val_accuracy: 0.9541\n",
      "Epoch 5/2000\n",
      "47168/48000 [============================>.] - ETA: 0s - loss: 0.1154 - accuracy: 0.9688 ETA\n",
      "Epoch 00005: val_accuracy improved from 0.95717 to 0.96258, saving model to .\\model\\mnist_005-0.9626.hd5\n",
      "INFO:tensorflow:Assets written to: .\\model\\mnist_005-0.9626.hd5\\assets\n",
      "48000/48000 [==============================] - 4s 81us/sample - loss: 0.1152 - accuracy: 0.9688 - val_loss: 0.1482 - val_accuracy: 0.9626\n",
      "Epoch 6/2000\n",
      "47776/48000 [============================>.] - ETA: 0s - loss: 0.1006 - accuracy: 0.9719\n",
      "Epoch 00006: val_accuracy improved from 0.96258 to 0.96792, saving model to .\\model\\mnist_006-0.9679.hd5\n",
      "INFO:tensorflow:Assets written to: .\\model\\mnist_006-0.9679.hd5\\assets\n",
      "48000/48000 [==============================] - 4s 81us/sample - loss: 0.1006 - accuracy: 0.9719 - val_loss: 0.1230 - val_accuracy: 0.9679\n",
      "Epoch 7/2000\n",
      "47264/48000 [============================>.] - ETA: 0s - loss: 0.0814 - accuracy: 0.9767\n",
      "Epoch 00007: val_accuracy did not improve from 0.96792\n",
      "48000/48000 [==============================] - 3s 62us/sample - loss: 0.0819 - accuracy: 0.9766 - val_loss: 0.1392 - val_accuracy: 0.9659\n",
      "Epoch 8/2000\n",
      "47360/48000 [============================>.] - ETA: 0s - loss: 0.0731 - accuracy: 0.9792\n",
      "Epoch 00008: val_accuracy did not improve from 0.96792\n",
      "48000/48000 [==============================] - 3s 61us/sample - loss: 0.0734 - accuracy: 0.9791 - val_loss: 0.1298 - val_accuracy: 0.9646\n",
      "Epoch 9/2000\n",
      "47840/48000 [============================>.] - ETA: 0s - loss: 0.0661 - accuracy: 0.9822\n",
      "Epoch 00009: val_accuracy improved from 0.96792 to 0.97408, saving model to .\\model\\mnist_009-0.9741.hd5\n",
      "INFO:tensorflow:Assets written to: .\\model\\mnist_009-0.9741.hd5\\assets\n",
      "48000/48000 [==============================] - 4s 76us/sample - loss: 0.0661 - accuracy: 0.9822 - val_loss: 0.1126 - val_accuracy: 0.9741\n",
      "Epoch 10/2000\n",
      "47040/48000 [============================>.] - ETA: 0s - loss: 0.0608 - accuracy: 0.9834\n",
      "Epoch 00010: val_accuracy did not improve from 0.97408\n",
      "48000/48000 [==============================] - 3s 61us/sample - loss: 0.0614 - accuracy: 0.9833 - val_loss: 0.1291 - val_accuracy: 0.9682\n",
      "Epoch 11/2000\n",
      "47840/48000 [============================>.] - ETA: 0s - loss: 0.0517 - accuracy: 0.9849\n",
      "Epoch 00011: val_accuracy did not improve from 0.97408\n",
      "48000/48000 [==============================] - 3s 61us/sample - loss: 0.0518 - accuracy: 0.9849 - val_loss: 0.1255 - val_accuracy: 0.9697\n",
      "Epoch 12/2000\n",
      "47968/48000 [============================>.] - ETA: 0s - loss: 0.0515 - accuracy: 0.9857\n",
      "Epoch 00012: val_accuracy did not improve from 0.97408\n",
      "48000/48000 [==============================] - 3s 61us/sample - loss: 0.0515 - accuracy: 0.9857 - val_loss: 0.1484 - val_accuracy: 0.9702\n",
      "Epoch 13/2000\n",
      "47648/48000 [============================>.] - ETA: 0s - loss: 0.0448 - accuracy: 0.9880\n",
      "Epoch 00013: val_accuracy did not improve from 0.97408\n",
      "48000/48000 [==============================] - 3s 62us/sample - loss: 0.0446 - accuracy: 0.9880 - val_loss: 0.1390 - val_accuracy: 0.9688\n",
      "Epoch 14/2000\n",
      "47744/48000 [============================>.] - ETA: 0s - loss: 0.0426 - accuracy: 0.9888\n",
      "Epoch 00014: val_accuracy did not improve from 0.97408\n",
      "48000/48000 [==============================] - 3s 61us/sample - loss: 0.0426 - accuracy: 0.9888 - val_loss: 0.1382 - val_accuracy: 0.9681\n"
     ]
    }
   ],
   "source": [
    "history = model.fit(X_train_reshape, y_train_one_hot, epochs = 2000, validation_split = 0.2, callbacks=[mc, et] ) "
   ]
  },
  {
   "cell_type": "code",
   "execution_count": 114,
   "metadata": {},
   "outputs": [
    {
     "data": {
      "image/png": "[encoded data removed]",
      "text/plain": [
       "<Figure size 720x360 with 1 Axes>"
      ]
     },
     "metadata": {
      "needs_background": "light"
     },
     "output_type": "display_data"
    }
   ],
   "source": [
    "plt.figure(figsize=(10,5)) #가로,세로\n",
    "plt.plot(history.history['accuracy'], label = 'train') # 훈련용 데이터로 평가한 점수\n",
    "plt.plot(history.history['val_accuracy'], label= 'val') # 검증용 데이터로 평가한 점수\n",
    "plt.legend()\n",
    "plt.show()"
   ]
  },
  {
   "cell_type": "code",
   "execution_count": 103,
   "metadata": {},
   "outputs": [
    {
     "name": "stdout",
     "output_type": "stream",
     "text": [
      "10000/10000 [==============================] - 1s 50us/sample - loss: 0.1495 - accuracy: 0.9760\n"
     ]
    },
    {
     "data": {
      "text/plain": [
       "[0.1495285255536608, 0.976]"
      ]
     },
     "execution_count": 103,
     "metadata": {},
     "output_type": "execute_result"
    }
   ],
   "source": [
    "model.evaluate(X_test_reshape, y_test_one_hot)"
   ]
  },
  {
   "cell_type": "code",
   "execution_count": 125,
   "metadata": {},
   "outputs": [
    {
     "name": "stdout",
     "output_type": "stream",
     "text": [
      "Model: \"sequential_19\"\n",
      "_________________________________________________________________\n",
      "Layer (type)                 Output Shape              Param #   \n",
      "=================================================================\n",
      "dense_106 (Dense)            (None, 128)               100480    \n",
      "_________________________________________________________________\n",
      "dense_107 (Dense)            (None, 64)                8256      \n",
      "_________________________________________________________________\n",
      "dense_108 (Dense)            (None, 32)                2080      \n",
      "_________________________________________________________________\n",
      "dense_109 (Dense)            (None, 16)                528       \n",
      "_________________________________________________________________\n",
      "dense_110 (Dense)            (None, 8)                 136       \n",
      "_________________________________________________________________\n",
      "dense_111 (Dense)            (None, 10)                90        \n",
      "=================================================================\n",
      "Total params: 111,570\n",
      "Trainable params: 111,570\n",
      "Non-trainable params: 0\n",
      "_________________________________________________________________\n"
     ]
    }
   ],
   "source": [
    "model2 = Sequential()\n",
    "\n",
    "model2.add(Dense(128, input_dim =  784, activation='relu'))\n",
    "model2.add(Dense(64, activation='relu'))\n",
    "model2.add(Dense(32, activation='relu'))\n",
    "model2.add(Dense(16, activation='relu'))\n",
    "model2.add(Dense(8, activation='relu'))\n",
    "\n",
    "model2.add(Dense(10, activation='softmax'))\n",
    "model2.summary()"
   ]
  },
  {
   "cell_type": "code",
   "execution_count": 126,
   "metadata": {
    "scrolled": true
   },
   "outputs": [
    {
     "name": "stdout",
     "output_type": "stream",
     "text": [
      "Train on 48000 samples, validate on 12000 samples\n",
      "Epoch 1/2000\n",
      "47488/48000 [============================>.] - ETA: 0s - loss: 1.6089 - accuracy: 0.4162\n",
      "Epoch 00001: val_accuracy did not improve from 0.97408\n",
      "48000/48000 [==============================] - 3s 67us/sample - loss: 1.6042 - accuracy: 0.4177 - val_loss: 1.2541 - val_accuracy: 0.5503\n",
      "Epoch 2/2000\n",
      "47968/48000 [============================>.] - ETA: 0s - loss: 0.9229 - accuracy: 0.7048\n",
      "Epoch 00002: val_accuracy did not improve from 0.97408\n",
      "48000/48000 [==============================] - 3s 59us/sample - loss: 0.9230 - accuracy: 0.7049 - val_loss: 0.5371 - val_accuracy: 0.8943\n",
      "Epoch 3/2000\n",
      "47552/48000 [============================>.] - ETA: 0s - loss: 0.4074 - accuracy: 0.9114\n",
      "Epoch 00003: val_accuracy did not improve from 0.97408\n",
      "48000/48000 [==============================] - 3s 61us/sample - loss: 0.4060 - accuracy: 0.9116 - val_loss: 0.2487 - val_accuracy: 0.9376\n",
      "Epoch 4/2000\n",
      "47264/48000 [============================>.] - ETA: 0s - loss: 0.2430 - accuracy: 0.9414\n",
      "Epoch 00004: val_accuracy did not improve from 0.97408\n",
      "48000/48000 [==============================] - 3s 60us/sample - loss: 0.2430 - accuracy: 0.9413 - val_loss: 0.2292 - val_accuracy: 0.9485\n",
      "Epoch 5/2000\n",
      "46944/48000 [============================>.] - ETA: 0s - loss: 0.1815 - accuracy: 0.9547\n",
      "Epoch 00005: val_accuracy did not improve from 0.97408\n",
      "48000/48000 [==============================] - 3s 60us/sample - loss: 0.1813 - accuracy: 0.9547 - val_loss: 0.1949 - val_accuracy: 0.9502\n",
      "Epoch 6/2000\n",
      "47296/48000 [============================>.] - ETA: 0s - loss: 0.1501 - accuracy: 0.9622\n",
      "Epoch 00006: val_accuracy did not improve from 0.97408\n",
      "48000/48000 [==============================] - 3s 60us/sample - loss: 0.1508 - accuracy: 0.9621 - val_loss: 0.1880 - val_accuracy: 0.9571\n",
      "Epoch 7/2000\n",
      "47040/48000 [============================>.] - ETA: 0s - loss: 0.1285 - accuracy: 0.9662\n",
      "Epoch 00007: val_accuracy did not improve from 0.97408\n",
      "48000/48000 [==============================] - 3s 61us/sample - loss: 0.1283 - accuracy: 0.9663 - val_loss: 0.1730 - val_accuracy: 0.9577\n",
      "Epoch 8/2000\n",
      "47904/48000 [============================>.] - ETA: 0s - loss: 0.1116 - accuracy: 0.9705\n",
      "Epoch 00008: val_accuracy did not improve from 0.97408\n",
      "48000/48000 [==============================] - 3s 62us/sample - loss: 0.1115 - accuracy: 0.9705 - val_loss: 0.1676 - val_accuracy: 0.9633\n",
      "Epoch 9/2000\n",
      "47360/48000 [============================>.] - ETA: 0s - loss: 0.0960 - accuracy: 0.9750\n",
      "Epoch 00009: val_accuracy did not improve from 0.97408\n",
      "48000/48000 [==============================] - 3s 60us/sample - loss: 0.0966 - accuracy: 0.9749 - val_loss: 0.1518 - val_accuracy: 0.9648\n",
      "Epoch 10/2000\n",
      "47232/48000 [============================>.] - ETA: 0s - loss: 0.0900 - accuracy: 0.9761\n",
      "Epoch 00010: val_accuracy did not improve from 0.97408\n",
      "48000/48000 [==============================] - 3s 60us/sample - loss: 0.0904 - accuracy: 0.9761 - val_loss: 0.1546 - val_accuracy: 0.9639\n",
      "Epoch 11/2000\n",
      "47968/48000 [============================>.] - ETA: 0s - loss: 0.0756 - accuracy: 0.9799\n",
      "Epoch 00011: val_accuracy did not improve from 0.97408\n",
      "48000/48000 [==============================] - 3s 60us/sample - loss: 0.0756 - accuracy: 0.9799 - val_loss: 0.1550 - val_accuracy: 0.9658\n",
      "Epoch 12/2000\n",
      "47808/48000 [============================>.] - ETA: 0s - loss: 0.0709 - accuracy: 0.9808\n",
      "Epoch 00012: val_accuracy did not improve from 0.97408\n",
      "48000/48000 [==============================] - 3s 61us/sample - loss: 0.0711 - accuracy: 0.9808 - val_loss: 0.1523 - val_accuracy: 0.9647\n",
      "Epoch 13/2000\n",
      "47200/48000 [============================>.] - ETA: 0s - loss: 0.0618 - accuracy: 0.9828\n",
      "Epoch 00013: val_accuracy did not improve from 0.97408\n",
      "48000/48000 [==============================] - 3s 59us/sample - loss: 0.0620 - accuracy: 0.9827 - val_loss: 0.1529 - val_accuracy: 0.9679\n",
      "Epoch 14/2000\n",
      "47360/48000 [============================>.] - ETA: 0s - loss: 0.0549 - accuracy: 0.9852\n",
      "Epoch 00014: val_accuracy did not improve from 0.97408\n",
      "48000/48000 [==============================] - 3s 61us/sample - loss: 0.0548 - accuracy: 0.9852 - val_loss: 0.1631 - val_accuracy: 0.9694\n",
      "Epoch 15/2000\n",
      "47200/48000 [============================>.] - ETA: 0s - loss: 0.0524 - accuracy: 0.9861\n",
      "Epoch 00015: val_accuracy did not improve from 0.97408\n",
      "48000/48000 [==============================] - 3s 61us/sample - loss: 0.0522 - accuracy: 0.9862 - val_loss: 0.1616 - val_accuracy: 0.9693\n",
      "Epoch 16/2000\n",
      "47648/48000 [============================>.] - ETA: 0s - loss: 0.0519 - accuracy: 0.9869\n",
      "Epoch 00016: val_accuracy did not improve from 0.97408\n",
      "48000/48000 [==============================] - 3s 59us/sample - loss: 0.0520 - accuracy: 0.9868 - val_loss: 0.1548 - val_accuracy: 0.9657\n",
      "Epoch 17/2000\n",
      "47104/48000 [============================>.] - ETA: 0s - loss: 0.0447 - accuracy: 0.9878\n",
      "Epoch 00017: val_accuracy did not improve from 0.97408\n",
      "48000/48000 [==============================] - 3s 61us/sample - loss: 0.0447 - accuracy: 0.9878 - val_loss: 0.1806 - val_accuracy: 0.9664\n",
      "Epoch 18/2000\n",
      "46976/48000 [============================>.] - ETA: 0s - loss: 0.0440 - accuracy: 0.9884\n",
      "Epoch 00018: val_accuracy did not improve from 0.97408\n",
      "48000/48000 [==============================] - 3s 60us/sample - loss: 0.0444 - accuracy: 0.9884 - val_loss: 0.1527 - val_accuracy: 0.9724\n",
      "Epoch 19/2000\n",
      "47840/48000 [============================>.] - ETA: 0s - loss: 0.0393 - accuracy: 0.9893\n",
      "Epoch 00019: val_accuracy did not improve from 0.97408\n",
      "48000/48000 [==============================] - 3s 63us/sample - loss: 0.0394 - accuracy: 0.9893 - val_loss: 0.1744 - val_accuracy: 0.9689\n",
      "Epoch 20/2000\n",
      "47136/48000 [============================>.] - ETA: 0s - loss: 0.0364 - accuracy: 0.9906\n",
      "Epoch 00020: val_accuracy did not improve from 0.97408\n",
      "48000/48000 [==============================] - 3s 61us/sample - loss: 0.0365 - accuracy: 0.9906 - val_loss: 0.1912 - val_accuracy: 0.9709\n",
      "Epoch 21/2000\n",
      "47104/48000 [============================>.] - ETA: 0s - loss: 0.0403 - accuracy: 0.9901\n",
      "Epoch 00021: val_accuracy did not improve from 0.97408\n",
      "48000/48000 [==============================] - 3s 61us/sample - loss: 0.0402 - accuracy: 0.9901 - val_loss: 0.1629 - val_accuracy: 0.9695\n",
      "Epoch 22/2000\n",
      "47040/48000 [============================>.] - ETA: 0s - loss: 0.0348 - accuracy: 0.9908\n",
      "Epoch 00022: val_accuracy did not improve from 0.97408\n",
      "48000/48000 [==============================] - 3s 60us/sample - loss: 0.0355 - accuracy: 0.9907 - val_loss: 0.1675 - val_accuracy: 0.9707\n",
      "Epoch 23/2000\n",
      "47584/48000 [============================>.] - ETA: 0s - loss: 0.0345 - accuracy: 0.9915\n",
      "Epoch 00023: val_accuracy did not improve from 0.97408\n",
      "48000/48000 [==============================] - 3s 61us/sample - loss: 0.0344 - accuracy: 0.9915 - val_loss: 0.1664 - val_accuracy: 0.9726\n",
      "Epoch 24/2000\n",
      "47584/48000 [============================>.] - ETA: 0s - loss: 0.0313 - accuracy: 0.9920\n",
      "Epoch 00024: val_accuracy did not improve from 0.97408\n",
      "48000/48000 [==============================] - 3s 60us/sample - loss: 0.0312 - accuracy: 0.9920 - val_loss: 0.1617 - val_accuracy: 0.9715\n",
      "Epoch 25/2000\n",
      "47424/48000 [============================>.] - ETA: 0s - loss: 0.0318 - accuracy: 0.9920\n",
      "Epoch 00025: val_accuracy did not improve from 0.97408\n",
      "48000/48000 [==============================] - 3s 61us/sample - loss: 0.0318 - accuracy: 0.9919 - val_loss: 0.1898 - val_accuracy: 0.9691\n",
      "Epoch 26/2000\n",
      "47552/48000 [============================>.] - ETA: 0s - loss: 0.0261 - accuracy: 0.9930\n",
      "Epoch 00026: val_accuracy did not improve from 0.97408\n",
      "48000/48000 [==============================] - 3s 60us/sample - loss: 0.0262 - accuracy: 0.9929 - val_loss: 0.1856 - val_accuracy: 0.9712\n",
      "Epoch 27/2000\n",
      "47872/48000 [============================>.] - ETA: 0s - loss: 0.0345 - accuracy: 0.9916\n",
      "Epoch 00027: val_accuracy did not improve from 0.97408\n",
      "48000/48000 [==============================] - 3s 60us/sample - loss: 0.0345 - accuracy: 0.9916 - val_loss: 0.1748 - val_accuracy: 0.9704\n",
      "Epoch 28/2000\n",
      "47392/48000 [============================>.] - ETA: 0s - loss: 0.0275 - accuracy: 0.9933\n",
      "Epoch 00028: val_accuracy did not improve from 0.97408\n",
      "48000/48000 [==============================] - 3s 61us/sample - loss: 0.0277 - accuracy: 0.9933 - val_loss: 0.1710 - val_accuracy: 0.9724\n"
     ]
    }
   ],
   "source": [
    "model2.compile(loss='categorical_crossentropy', optimizer = Adam(lr = 0.001), metrics =['accuracy'] )\n",
    "history2 = model2.fit(X_train_reshape, y_train_one_hot, epochs = 2000, validation_split = 0.2, callbacks=[mc, et] ) "
   ]
  },
  {
   "cell_type": "code",
   "execution_count": 127,
   "metadata": {},
   "outputs": [
    {
     "name": "stdout",
     "output_type": "stream",
     "text": [
      "10000/10000 [==============================] - 1s 50us/sample - loss: 0.1456 - accuracy: 0.9759\n"
     ]
    },
    {
     "data": {
      "text/plain": [
       "[0.14559464308924508, 0.9759]"
      ]
     },
     "execution_count": 127,
     "metadata": {},
     "output_type": "execute_result"
    }
   ],
   "source": [
    "model2.evaluate(X_test_reshape, y_test_one_hot)"
   ]
  },
  {
   "cell_type": "code",
   "execution_count": 128,
   "metadata": {
    "scrolled": false
   },
   "outputs": [
    {
     "data": {
      "image/png": "[encoded data removed]",
      "text/plain": [
       "<Figure size 720x360 with 1 Axes>"
      ]
     },
     "metadata": {
      "needs_background": "light"
     },
     "output_type": "display_data"
    }
   ],
   "source": [
    "plt.figure(figsize=(10,5)) #가로,세로\n",
    "plt.plot(history2.history['accuracy'], label = 'train') # 훈련용 데이터로 평가한 점수\n",
    "plt.plot(history2.history['val_accuracy'], label= 'val') # 검증용 데이터로 평가한 점수\n",
    "plt.legend()\n",
    "plt.show()"
   ]
  },
  {
   "cell_type": "code",
   "execution_count": 48,
   "metadata": {},
   "outputs": [],
   "source": [
    "import os \n",
    "model_dir = '.\\\\model\\\\'\n",
    "#폴더 없으면 생성\n",
    "if not os.path.exists(model_dir) :\n",
    "    os.mkdir(model_dir)"
   ]
  },
  {
   "cell_type": "code",
   "execution_count": 49,
   "metadata": {},
   "outputs": [
    {
     "name": "stdout",
     "output_type": "stream",
     "text": [
      "INFO:tensorflow:Assets written to: .\\model\\mnist_model01.hd5\\assets\n"
     ]
    }
   ],
   "source": [
    "#모델 저장\n",
    "path = model_dir + \"mnist_model01.hd5\"\n",
    "model.save(path)"
   ]
  },
  {
   "cell_type": "code",
   "execution_count": 50,
   "metadata": {},
   "outputs": [],
   "source": [
    "#기본 모델 삭제\n",
    "del model"
   ]
  },
  {
   "cell_type": "code",
   "execution_count": 52,
   "metadata": {},
   "outputs": [],
   "source": [
    "#모델 불러오기\n",
    "from tensorflow.keras.models import load_model\n",
    "\n",
    "model = load_model(path)"
   ]
  },
  {
   "cell_type": "code",
   "execution_count": 53,
   "metadata": {},
   "outputs": [
    {
     "name": "stdout",
     "output_type": "stream",
     "text": [
      "Model: \"sequential_2\"\n",
      "_________________________________________________________________\n",
      "Layer (type)                 Output Shape              Param #   \n",
      "=================================================================\n",
      "dense_7 (Dense)              (None, 10)                7850      \n",
      "_________________________________________________________________\n",
      "dense_8 (Dense)              (None, 5)                 55        \n",
      "_________________________________________________________________\n",
      "dense_9 (Dense)              (None, 5)                 30        \n",
      "_________________________________________________________________\n",
      "dense_10 (Dense)             (None, 10)                60        \n",
      "=================================================================\n",
      "Total params: 7,995\n",
      "Trainable params: 7,995\n",
      "Non-trainable params: 0\n",
      "_________________________________________________________________\n"
     ]
    }
   ],
   "source": [
    "model.summary()"
   ]
  },
  {
   "cell_type": "markdown",
   "metadata": {},
   "source": [
    "### 베스트 모델 저장"
   ]
  },
  {
   "cell_type": "code",
   "execution_count": null,
   "metadata": {},
   "outputs": [],
   "source": [
    "import os\n",
    "# 베스트 모델을 찾아 저장!\n",
    "from tensorflow.keras.callbacks import ModelCheckpoint\n",
    "\n",
    "best_model_dir = '.\\\\model\\\\'\n",
    "\n",
    "if not os.path.exists(best_model_dir) :\n",
    "    os.mkdir(best_model_dir)\n",
    "    \n",
    "#001-70.2246.hd5\n",
    "best_model_path = best_model_dir + \"mnist_{epoch:03d}-{val_accuracy:.4f}.hd5\"\n",
    "\n",
    "#filepath : 베스트 모델을 저장할 경로\n",
    "# monitor : 베스트 모델을 찾을 기준\n",
    "# save_best_only : 베스트 모델만 저장\n",
    "#  verbose : 실행 과정을 출력 ( 0 : 출력 x)"
   ]
  },
  {
   "cell_type": "markdown",
   "metadata": {},
   "source": [
    "### 학습 중단 기준"
   ]
  },
  {
   "cell_type": "code",
   "execution_count": 116,
   "metadata": {},
   "outputs": [],
   "source": [
    "#학습이 더 이상 나아지지 않으면 학습 중단,.\n",
    "\n",
    "from tensorflow.keras.callbacks import EarlyStopping\n",
    "\n",
    "\n",
    "mc = ModelCheckpoint(filepath=best_model_path,\n",
    "                    monitor=\"val_accuracy\",\n",
    "                     save_best_only=True,\n",
    "                     verbose = 1  )\n",
    "\n",
    "#monitor = 중지 기준\n",
    "#patience : 학습이 나아지지 않더라도 진행하는 반복 회수\n",
    "et = EarlyStopping(monitor = \"val_accuracy\", \n",
    "                   patience = 5)"
   ]
  },
  {
   "cell_type": "code",
   "execution_count": 115,
   "metadata": {},
   "outputs": [],
   "source": [
    "# 베스트 모델 불러오기\n",
    "\n",
    "from tensorflow.keras.models import load_model\n",
    "\n",
    "path2 = best_model_dir + \"mnist_017-0.9764.hd5\"\n",
    "\n",
    "model = load_model(path2)"
   ]
  },
  {
   "cell_type": "code",
   "execution_count": 109,
   "metadata": {},
   "outputs": [
    {
     "name": "stdout",
     "output_type": "stream",
     "text": [
      "10000/10000 [==============================] - 0s 45us/sample - loss: 0.1207 - accuracy: 0.9776\n"
     ]
    },
    {
     "data": {
      "text/plain": [
       "[0.12070450595988332, 0.9776]"
      ]
     },
     "execution_count": 109,
     "metadata": {},
     "output_type": "execute_result"
    }
   ],
   "source": [
    "model.evaluate(X_test_reshape, y_test_one_hot)"
   ]
  },
  {
   "cell_type": "code",
   "execution_count": null,
   "metadata": {},
   "outputs": [],
   "source": []
  },
  {
   "cell_type": "code",
   "execution_count": null,
   "metadata": {},
   "outputs": [],
   "source": []
  }
 ],
 "metadata": {
  "kernelspec": {
   "display_name": "Python 3",
   "language": "python",
   "name": "python3"
  },
  "language_info": {
   "codemirror_mode": {
    "name": "ipython",
    "version": 3
   },
   "file_extension": ".py",
   "mimetype": "text/x-python",
   "name": "python",
   "nbconvert_exporter": "python",
   "pygments_lexer": "ipython3",
   "version": "3.6.12"
  }
 },
 "nbformat": 4,
 "nbformat_minor": 4
}
