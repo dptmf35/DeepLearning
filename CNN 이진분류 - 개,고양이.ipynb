{
 "cells": [
  {
   "cell_type": "markdown",
   "metadata": {},
   "source": [
    "## 사전 준비\n",
    "- 0. 케글에서 cats and dogs 데이터 셋 다운받기 \n",
    "<br>(링크: https://www.kaggle.com/c/dogs-vs-cats/data)\n",
    "- 1. 해당 노트북 파일이 있는 경로에 new_data 폴더/cats_and_dogs_small 폴더 를 생성\n",
    "- 2. cats_and_dogs_small 폴더 안에 train, test, validation 폴더 각각 생성\n",
    "- 3. 각 train, test, validation 폴더 안에 cats, dogs 폴더 생성\n",
    "- 4. cats, dogs 폴더 안에 케글 train 폴더 안에 있던 개, 고양이 사진 넣기\n",
    "<br> train (0 - 999) : 1000개 , test(1000 - 1499) : 500개 , validation(1500 - 1999) : 500개"
   ]
  },
  {
   "cell_type": "code",
   "execution_count": 1,
   "metadata": {},
   "outputs": [],
   "source": [
    "import os"
   ]
  },
  {
   "cell_type": "code",
   "execution_count": 2,
   "metadata": {},
   "outputs": [
    {
     "name": "stdout",
     "output_type": "stream",
     "text": [
      "train(개) 개수 : 1000\n",
      "train(고양이) 개수 : 1000\n",
      "test(개) 개수 : 500\n",
      "test(고양이) 개수 : 500\n",
      "validation(개) 개수 : 500\n",
      "validation(고양이) 개수 : 500\n"
     ]
    }
   ],
   "source": [
    "# 데이터 확인\n",
    "\n",
    "train_cats_dir = './new_data/cats_and_dogs_small/train/cats'\n",
    "train_dogs_dir = './new_data/cats_and_dogs_small/train/dogs'\n",
    "test_cats_dir = './new_data/cats_and_dogs_small/test/cats'\n",
    "test_dogs_dir = './new_data/cats_and_dogs_small/test/dogs'\n",
    "validation_cats_dir = './new_data/cats_and_dogs_small/validation/cats'\n",
    "validation_dogs_dir = './new_data/cats_and_dogs_small/validation/cats'\n",
    "\n",
    "# -----------------------------------------------------\n",
    "\n",
    "print('train(개) 개수 :', len(os.listdir(train_dogs_dir)))\n",
    "print('train(고양이) 개수 :', len(os.listdir(train_cats_dir)))\n",
    "print('test(개) 개수 :', len(os.listdir(test_dogs_dir)))\n",
    "print('test(고양이) 개수 :', len(os.listdir(test_cats_dir)))\n",
    "print('validation(개) 개수 :', len(os.listdir(validation_dogs_dir)))\n",
    "print('validation(고양이) 개수 :', len(os.listdir(validation_cats_dir)))"
   ]
  },
  {
   "cell_type": "markdown",
   "metadata": {},
   "source": [
    "### generator 통한 이미지 전처리"
   ]
  },
  {
   "cell_type": "code",
   "execution_count": 3,
   "metadata": {},
   "outputs": [
    {
     "name": "stderr",
     "output_type": "stream",
     "text": [
      "C:\\Users\\SMT002\\anaconda3\\lib\\site-packages\\tensorflow\\python\\framework\\dtypes.py:516: FutureWarning: Passing (type, 1) or '1type' as a synonym of type is deprecated; in a future version of numpy, it will be understood as (type, (1,)) / '(1,)type'.\n",
      "  _np_qint8 = np.dtype([(\"qint8\", np.int8, 1)])\n",
      "C:\\Users\\SMT002\\anaconda3\\lib\\site-packages\\tensorflow\\python\\framework\\dtypes.py:517: FutureWarning: Passing (type, 1) or '1type' as a synonym of type is deprecated; in a future version of numpy, it will be understood as (type, (1,)) / '(1,)type'.\n",
      "  _np_quint8 = np.dtype([(\"quint8\", np.uint8, 1)])\n",
      "C:\\Users\\SMT002\\anaconda3\\lib\\site-packages\\tensorflow\\python\\framework\\dtypes.py:518: FutureWarning: Passing (type, 1) or '1type' as a synonym of type is deprecated; in a future version of numpy, it will be understood as (type, (1,)) / '(1,)type'.\n",
      "  _np_qint16 = np.dtype([(\"qint16\", np.int16, 1)])\n",
      "C:\\Users\\SMT002\\anaconda3\\lib\\site-packages\\tensorflow\\python\\framework\\dtypes.py:519: FutureWarning: Passing (type, 1) or '1type' as a synonym of type is deprecated; in a future version of numpy, it will be understood as (type, (1,)) / '(1,)type'.\n",
      "  _np_quint16 = np.dtype([(\"quint16\", np.uint16, 1)])\n",
      "C:\\Users\\SMT002\\anaconda3\\lib\\site-packages\\tensorflow\\python\\framework\\dtypes.py:520: FutureWarning: Passing (type, 1) or '1type' as a synonym of type is deprecated; in a future version of numpy, it will be understood as (type, (1,)) / '(1,)type'.\n",
      "  _np_qint32 = np.dtype([(\"qint32\", np.int32, 1)])\n",
      "C:\\Users\\SMT002\\anaconda3\\lib\\site-packages\\tensorflow\\python\\framework\\dtypes.py:525: FutureWarning: Passing (type, 1) or '1type' as a synonym of type is deprecated; in a future version of numpy, it will be understood as (type, (1,)) / '(1,)type'.\n",
      "  np_resource = np.dtype([(\"resource\", np.ubyte, 1)])\n"
     ]
    },
    {
     "ename": "ImportError",
     "evalue": "cannot import name 'export_saved_model' from 'tensorflow.python.keras.saving.saved_model' (C:\\Users\\SMT002\\anaconda3\\lib\\site-packages\\tensorflow\\python\\keras\\saving\\saved_model\\__init__.py)",
     "output_type": "error",
     "traceback": [
      "\u001b[1;31m---------------------------------------------------------------------------\u001b[0m",
      "\u001b[1;31mImportError\u001b[0m                               Traceback (most recent call last)",
      "\u001b[1;32m<ipython-input-3-0b6a4f3a01ae>\u001b[0m in \u001b[0;36m<module>\u001b[1;34m\u001b[0m\n\u001b[1;32m----> 1\u001b[1;33m \u001b[1;32mfrom\u001b[0m \u001b[0mtensorflow\u001b[0m\u001b[1;33m.\u001b[0m\u001b[0mkeras\u001b[0m\u001b[1;33m.\u001b[0m\u001b[0mpreprocessing\u001b[0m\u001b[1;33m.\u001b[0m\u001b[0mimage\u001b[0m \u001b[1;32mimport\u001b[0m \u001b[0mImageDataGenerator\u001b[0m\u001b[1;33m\u001b[0m\u001b[1;33m\u001b[0m\u001b[0m\n\u001b[0m\u001b[0;32m      2\u001b[0m \u001b[1;33m\u001b[0m\u001b[0m\n\u001b[0;32m      3\u001b[0m \u001b[1;31m# 픽셀값을 0 - 255 범위에서 0.0 -1.0 범위로 변경\u001b[0m\u001b[1;33m\u001b[0m\u001b[1;33m\u001b[0m\u001b[1;33m\u001b[0m\u001b[0m\n\u001b[0;32m      4\u001b[0m \u001b[0mtrain_gen\u001b[0m \u001b[1;33m=\u001b[0m \u001b[0mImageDataGenerator\u001b[0m\u001b[1;33m(\u001b[0m\u001b[0mrescale\u001b[0m\u001b[1;33m=\u001b[0m\u001b[1;36m1.0\u001b[0m\u001b[1;33m/\u001b[0m\u001b[1;36m255\u001b[0m\u001b[1;33m)\u001b[0m\u001b[1;33m\u001b[0m\u001b[1;33m\u001b[0m\u001b[0m\n\u001b[0;32m      5\u001b[0m \u001b[0mtest_gen\u001b[0m \u001b[1;33m=\u001b[0m \u001b[0mImageDataGenerator\u001b[0m\u001b[1;33m(\u001b[0m\u001b[0mrescale\u001b[0m\u001b[1;33m=\u001b[0m\u001b[1;36m1.0\u001b[0m\u001b[1;33m/\u001b[0m\u001b[1;36m255\u001b[0m\u001b[1;33m)\u001b[0m\u001b[1;33m\u001b[0m\u001b[1;33m\u001b[0m\u001b[0m\n",
      "\u001b[1;32m~\\anaconda3\\lib\\site-packages\\tensorflow\\__init__.py\u001b[0m in \u001b[0;36m<module>\u001b[1;34m\u001b[0m\n\u001b[0;32m     26\u001b[0m \u001b[1;33m\u001b[0m\u001b[0m\n\u001b[0;32m     27\u001b[0m \u001b[1;31m# pylint: disable=g-bad-import-order\u001b[0m\u001b[1;33m\u001b[0m\u001b[1;33m\u001b[0m\u001b[1;33m\u001b[0m\u001b[0m\n\u001b[1;32m---> 28\u001b[1;33m \u001b[1;32mfrom\u001b[0m \u001b[0mtensorflow\u001b[0m\u001b[1;33m.\u001b[0m\u001b[0mpython\u001b[0m \u001b[1;32mimport\u001b[0m \u001b[0mpywrap_tensorflow\u001b[0m  \u001b[1;31m# pylint: disable=unused-import\u001b[0m\u001b[1;33m\u001b[0m\u001b[1;33m\u001b[0m\u001b[0m\n\u001b[0m\u001b[0;32m     29\u001b[0m \u001b[1;32mfrom\u001b[0m \u001b[0mtensorflow\u001b[0m\u001b[1;33m.\u001b[0m\u001b[0mpython\u001b[0m\u001b[1;33m.\u001b[0m\u001b[0mtools\u001b[0m \u001b[1;32mimport\u001b[0m \u001b[0mmodule_util\u001b[0m \u001b[1;32mas\u001b[0m \u001b[0m_module_util\u001b[0m\u001b[1;33m\u001b[0m\u001b[1;33m\u001b[0m\u001b[0m\n\u001b[0;32m     30\u001b[0m \u001b[1;33m\u001b[0m\u001b[0m\n",
      "\u001b[1;32m~\\anaconda3\\lib\\site-packages\\tensorflow\\python\\__init__.py\u001b[0m in \u001b[0;36m<module>\u001b[1;34m\u001b[0m\n\u001b[0;32m     81\u001b[0m \u001b[1;32mfrom\u001b[0m \u001b[0mtensorflow\u001b[0m\u001b[1;33m.\u001b[0m\u001b[0mpython\u001b[0m \u001b[1;32mimport\u001b[0m \u001b[0mdata\u001b[0m\u001b[1;33m\u001b[0m\u001b[1;33m\u001b[0m\u001b[0m\n\u001b[0;32m     82\u001b[0m \u001b[1;32mfrom\u001b[0m \u001b[0mtensorflow\u001b[0m\u001b[1;33m.\u001b[0m\u001b[0mpython\u001b[0m \u001b[1;32mimport\u001b[0m \u001b[0mdistribute\u001b[0m\u001b[1;33m\u001b[0m\u001b[1;33m\u001b[0m\u001b[0m\n\u001b[1;32m---> 83\u001b[1;33m \u001b[1;32mfrom\u001b[0m \u001b[0mtensorflow\u001b[0m\u001b[1;33m.\u001b[0m\u001b[0mpython\u001b[0m \u001b[1;32mimport\u001b[0m \u001b[0mkeras\u001b[0m\u001b[1;33m\u001b[0m\u001b[1;33m\u001b[0m\u001b[0m\n\u001b[0m\u001b[0;32m     84\u001b[0m \u001b[1;32mfrom\u001b[0m \u001b[0mtensorflow\u001b[0m\u001b[1;33m.\u001b[0m\u001b[0mpython\u001b[0m\u001b[1;33m.\u001b[0m\u001b[0mfeature_column\u001b[0m \u001b[1;32mimport\u001b[0m \u001b[0mfeature_column_lib\u001b[0m \u001b[1;32mas\u001b[0m \u001b[0mfeature_column\u001b[0m\u001b[1;33m\u001b[0m\u001b[1;33m\u001b[0m\u001b[0m\n\u001b[0;32m     85\u001b[0m \u001b[1;32mfrom\u001b[0m \u001b[0mtensorflow\u001b[0m\u001b[1;33m.\u001b[0m\u001b[0mpython\u001b[0m\u001b[1;33m.\u001b[0m\u001b[0mlayers\u001b[0m \u001b[1;32mimport\u001b[0m \u001b[0mlayers\u001b[0m\u001b[1;33m\u001b[0m\u001b[1;33m\u001b[0m\u001b[0m\n",
      "\u001b[1;32m~\\anaconda3\\lib\\site-packages\\tensorflow\\python\\keras\\__init__.py\u001b[0m in \u001b[0;36m<module>\u001b[1;34m\u001b[0m\n\u001b[0;32m     24\u001b[0m \u001b[1;32mfrom\u001b[0m \u001b[0mtensorflow\u001b[0m\u001b[1;33m.\u001b[0m\u001b[0mpython\u001b[0m \u001b[1;32mimport\u001b[0m \u001b[0mtf2\u001b[0m\u001b[1;33m\u001b[0m\u001b[1;33m\u001b[0m\u001b[0m\n\u001b[0;32m     25\u001b[0m \u001b[1;33m\u001b[0m\u001b[0m\n\u001b[1;32m---> 26\u001b[1;33m \u001b[1;32mfrom\u001b[0m \u001b[0mtensorflow\u001b[0m\u001b[1;33m.\u001b[0m\u001b[0mpython\u001b[0m\u001b[1;33m.\u001b[0m\u001b[0mkeras\u001b[0m \u001b[1;32mimport\u001b[0m \u001b[0mactivations\u001b[0m\u001b[1;33m\u001b[0m\u001b[1;33m\u001b[0m\u001b[0m\n\u001b[0m\u001b[0;32m     27\u001b[0m \u001b[1;32mfrom\u001b[0m \u001b[0mtensorflow\u001b[0m\u001b[1;33m.\u001b[0m\u001b[0mpython\u001b[0m\u001b[1;33m.\u001b[0m\u001b[0mkeras\u001b[0m \u001b[1;32mimport\u001b[0m \u001b[0mapplications\u001b[0m\u001b[1;33m\u001b[0m\u001b[1;33m\u001b[0m\u001b[0m\n\u001b[0;32m     28\u001b[0m \u001b[1;32mfrom\u001b[0m \u001b[0mtensorflow\u001b[0m\u001b[1;33m.\u001b[0m\u001b[0mpython\u001b[0m\u001b[1;33m.\u001b[0m\u001b[0mkeras\u001b[0m \u001b[1;32mimport\u001b[0m \u001b[0mbackend\u001b[0m\u001b[1;33m\u001b[0m\u001b[1;33m\u001b[0m\u001b[0m\n",
      "\u001b[1;32m~\\anaconda3\\lib\\site-packages\\tensorflow\\python\\keras\\activations.py\u001b[0m in \u001b[0;36m<module>\u001b[1;34m\u001b[0m\n\u001b[0;32m     22\u001b[0m \u001b[1;33m\u001b[0m\u001b[0m\n\u001b[0;32m     23\u001b[0m \u001b[1;32mfrom\u001b[0m \u001b[0mtensorflow\u001b[0m\u001b[1;33m.\u001b[0m\u001b[0mpython\u001b[0m\u001b[1;33m.\u001b[0m\u001b[0mkeras\u001b[0m \u001b[1;32mimport\u001b[0m \u001b[0mbackend\u001b[0m \u001b[1;32mas\u001b[0m \u001b[0mK\u001b[0m\u001b[1;33m\u001b[0m\u001b[1;33m\u001b[0m\u001b[0m\n\u001b[1;32m---> 24\u001b[1;33m \u001b[1;32mfrom\u001b[0m \u001b[0mtensorflow\u001b[0m\u001b[1;33m.\u001b[0m\u001b[0mpython\u001b[0m\u001b[1;33m.\u001b[0m\u001b[0mkeras\u001b[0m\u001b[1;33m.\u001b[0m\u001b[0mutils\u001b[0m\u001b[1;33m.\u001b[0m\u001b[0mgeneric_utils\u001b[0m \u001b[1;32mimport\u001b[0m \u001b[0mdeserialize_keras_object\u001b[0m\u001b[1;33m\u001b[0m\u001b[1;33m\u001b[0m\u001b[0m\n\u001b[0m\u001b[0;32m     25\u001b[0m \u001b[1;32mfrom\u001b[0m \u001b[0mtensorflow\u001b[0m\u001b[1;33m.\u001b[0m\u001b[0mpython\u001b[0m\u001b[1;33m.\u001b[0m\u001b[0mops\u001b[0m \u001b[1;32mimport\u001b[0m \u001b[0mmath_ops\u001b[0m\u001b[1;33m\u001b[0m\u001b[1;33m\u001b[0m\u001b[0m\n\u001b[0;32m     26\u001b[0m \u001b[1;32mfrom\u001b[0m \u001b[0mtensorflow\u001b[0m\u001b[1;33m.\u001b[0m\u001b[0mpython\u001b[0m\u001b[1;33m.\u001b[0m\u001b[0mops\u001b[0m \u001b[1;32mimport\u001b[0m \u001b[0mnn\u001b[0m\u001b[1;33m\u001b[0m\u001b[1;33m\u001b[0m\u001b[0m\n",
      "\u001b[1;32m~\\anaconda3\\lib\\site-packages\\tensorflow\\python\\keras\\utils\\__init__.py\u001b[0m in \u001b[0;36m<module>\u001b[1;34m\u001b[0m\n\u001b[0;32m     37\u001b[0m \u001b[1;32mfrom\u001b[0m \u001b[0mtensorflow\u001b[0m\u001b[1;33m.\u001b[0m\u001b[0mpython\u001b[0m\u001b[1;33m.\u001b[0m\u001b[0mkeras\u001b[0m\u001b[1;33m.\u001b[0m\u001b[0mutils\u001b[0m\u001b[1;33m.\u001b[0m\u001b[0mlayer_utils\u001b[0m \u001b[1;32mimport\u001b[0m \u001b[0mprint_summary\u001b[0m\u001b[1;33m\u001b[0m\u001b[1;33m\u001b[0m\u001b[0m\n\u001b[0;32m     38\u001b[0m \u001b[1;32mfrom\u001b[0m \u001b[0mtensorflow\u001b[0m\u001b[1;33m.\u001b[0m\u001b[0mpython\u001b[0m\u001b[1;33m.\u001b[0m\u001b[0mkeras\u001b[0m\u001b[1;33m.\u001b[0m\u001b[0mutils\u001b[0m\u001b[1;33m.\u001b[0m\u001b[0mlosses_utils\u001b[0m \u001b[1;32mimport\u001b[0m \u001b[0msqueeze_or_expand_dimensions\u001b[0m\u001b[1;33m\u001b[0m\u001b[1;33m\u001b[0m\u001b[0m\n\u001b[1;32m---> 39\u001b[1;33m \u001b[1;32mfrom\u001b[0m \u001b[0mtensorflow\u001b[0m\u001b[1;33m.\u001b[0m\u001b[0mpython\u001b[0m\u001b[1;33m.\u001b[0m\u001b[0mkeras\u001b[0m\u001b[1;33m.\u001b[0m\u001b[0mutils\u001b[0m\u001b[1;33m.\u001b[0m\u001b[0mmulti_gpu_utils\u001b[0m \u001b[1;32mimport\u001b[0m \u001b[0mmulti_gpu_model\u001b[0m\u001b[1;33m\u001b[0m\u001b[1;33m\u001b[0m\u001b[0m\n\u001b[0m\u001b[0;32m     40\u001b[0m \u001b[1;32mfrom\u001b[0m \u001b[0mtensorflow\u001b[0m\u001b[1;33m.\u001b[0m\u001b[0mpython\u001b[0m\u001b[1;33m.\u001b[0m\u001b[0mkeras\u001b[0m\u001b[1;33m.\u001b[0m\u001b[0mutils\u001b[0m\u001b[1;33m.\u001b[0m\u001b[0mnp_utils\u001b[0m \u001b[1;32mimport\u001b[0m \u001b[0mnormalize\u001b[0m\u001b[1;33m\u001b[0m\u001b[1;33m\u001b[0m\u001b[0m\n\u001b[0;32m     41\u001b[0m \u001b[1;32mfrom\u001b[0m \u001b[0mtensorflow\u001b[0m\u001b[1;33m.\u001b[0m\u001b[0mpython\u001b[0m\u001b[1;33m.\u001b[0m\u001b[0mkeras\u001b[0m\u001b[1;33m.\u001b[0m\u001b[0mutils\u001b[0m\u001b[1;33m.\u001b[0m\u001b[0mnp_utils\u001b[0m \u001b[1;32mimport\u001b[0m \u001b[0mto_categorical\u001b[0m\u001b[1;33m\u001b[0m\u001b[1;33m\u001b[0m\u001b[0m\n",
      "\u001b[1;32m~\\anaconda3\\lib\\site-packages\\tensorflow\\python\\keras\\utils\\multi_gpu_utils.py\u001b[0m in \u001b[0;36m<module>\u001b[1;34m\u001b[0m\n\u001b[0;32m     20\u001b[0m \u001b[1;32mfrom\u001b[0m \u001b[0mtensorflow\u001b[0m\u001b[1;33m.\u001b[0m\u001b[0mpython\u001b[0m\u001b[1;33m.\u001b[0m\u001b[0mframework\u001b[0m \u001b[1;32mimport\u001b[0m \u001b[0mops\u001b[0m\u001b[1;33m\u001b[0m\u001b[1;33m\u001b[0m\u001b[0m\n\u001b[0;32m     21\u001b[0m \u001b[1;32mfrom\u001b[0m \u001b[0mtensorflow\u001b[0m\u001b[1;33m.\u001b[0m\u001b[0mpython\u001b[0m\u001b[1;33m.\u001b[0m\u001b[0mkeras\u001b[0m \u001b[1;32mimport\u001b[0m \u001b[0mbackend\u001b[0m \u001b[1;32mas\u001b[0m \u001b[0mK\u001b[0m\u001b[1;33m\u001b[0m\u001b[1;33m\u001b[0m\u001b[0m\n\u001b[1;32m---> 22\u001b[1;33m \u001b[1;32mfrom\u001b[0m \u001b[0mtensorflow\u001b[0m\u001b[1;33m.\u001b[0m\u001b[0mpython\u001b[0m\u001b[1;33m.\u001b[0m\u001b[0mkeras\u001b[0m\u001b[1;33m.\u001b[0m\u001b[0mengine\u001b[0m\u001b[1;33m.\u001b[0m\u001b[0mtraining\u001b[0m \u001b[1;32mimport\u001b[0m \u001b[0mModel\u001b[0m\u001b[1;33m\u001b[0m\u001b[1;33m\u001b[0m\u001b[0m\n\u001b[0m\u001b[0;32m     23\u001b[0m \u001b[1;32mfrom\u001b[0m \u001b[0mtensorflow\u001b[0m\u001b[1;33m.\u001b[0m\u001b[0mpython\u001b[0m\u001b[1;33m.\u001b[0m\u001b[0mops\u001b[0m \u001b[1;32mimport\u001b[0m \u001b[0marray_ops\u001b[0m\u001b[1;33m\u001b[0m\u001b[1;33m\u001b[0m\u001b[0m\n\u001b[0;32m     24\u001b[0m \u001b[1;32mfrom\u001b[0m \u001b[0mtensorflow\u001b[0m\u001b[1;33m.\u001b[0m\u001b[0mpython\u001b[0m\u001b[1;33m.\u001b[0m\u001b[0mutil\u001b[0m\u001b[1;33m.\u001b[0m\u001b[0mtf_export\u001b[0m \u001b[1;32mimport\u001b[0m \u001b[0mkeras_export\u001b[0m\u001b[1;33m\u001b[0m\u001b[1;33m\u001b[0m\u001b[0m\n",
      "\u001b[1;32m~\\anaconda3\\lib\\site-packages\\tensorflow\\python\\keras\\engine\\training.py\u001b[0m in \u001b[0;36m<module>\u001b[1;34m\u001b[0m\n\u001b[0;32m     38\u001b[0m \u001b[1;32mfrom\u001b[0m \u001b[0mtensorflow\u001b[0m\u001b[1;33m.\u001b[0m\u001b[0mpython\u001b[0m\u001b[1;33m.\u001b[0m\u001b[0mkeras\u001b[0m \u001b[1;32mimport\u001b[0m \u001b[0moptimizers\u001b[0m\u001b[1;33m\u001b[0m\u001b[1;33m\u001b[0m\u001b[0m\n\u001b[0;32m     39\u001b[0m \u001b[1;32mfrom\u001b[0m \u001b[0mtensorflow\u001b[0m\u001b[1;33m.\u001b[0m\u001b[0mpython\u001b[0m\u001b[1;33m.\u001b[0m\u001b[0mkeras\u001b[0m\u001b[1;33m.\u001b[0m\u001b[0mdistribute\u001b[0m \u001b[1;32mimport\u001b[0m \u001b[0mdistributed_training_utils\u001b[0m\u001b[1;33m\u001b[0m\u001b[1;33m\u001b[0m\u001b[0m\n\u001b[1;32m---> 40\u001b[1;33m \u001b[1;32mfrom\u001b[0m \u001b[0mtensorflow\u001b[0m\u001b[1;33m.\u001b[0m\u001b[0mpython\u001b[0m\u001b[1;33m.\u001b[0m\u001b[0mkeras\u001b[0m\u001b[1;33m.\u001b[0m\u001b[0mengine\u001b[0m \u001b[1;32mimport\u001b[0m \u001b[0mnetwork\u001b[0m\u001b[1;33m\u001b[0m\u001b[1;33m\u001b[0m\u001b[0m\n\u001b[0m\u001b[0;32m     41\u001b[0m \u001b[1;32mfrom\u001b[0m \u001b[0mtensorflow\u001b[0m\u001b[1;33m.\u001b[0m\u001b[0mpython\u001b[0m\u001b[1;33m.\u001b[0m\u001b[0mkeras\u001b[0m\u001b[1;33m.\u001b[0m\u001b[0mengine\u001b[0m \u001b[1;32mimport\u001b[0m \u001b[0mtraining_arrays\u001b[0m\u001b[1;33m\u001b[0m\u001b[1;33m\u001b[0m\u001b[0m\n\u001b[0;32m     42\u001b[0m \u001b[1;32mfrom\u001b[0m \u001b[0mtensorflow\u001b[0m\u001b[1;33m.\u001b[0m\u001b[0mpython\u001b[0m\u001b[1;33m.\u001b[0m\u001b[0mkeras\u001b[0m\u001b[1;33m.\u001b[0m\u001b[0mengine\u001b[0m \u001b[1;32mimport\u001b[0m \u001b[0mtraining_distributed\u001b[0m\u001b[1;33m\u001b[0m\u001b[1;33m\u001b[0m\u001b[0m\n",
      "\u001b[1;32m~\\anaconda3\\lib\\site-packages\\tensorflow\\python\\keras\\engine\\network.py\u001b[0m in \u001b[0;36m<module>\u001b[1;34m\u001b[0m\n\u001b[0;32m     37\u001b[0m \u001b[1;32mfrom\u001b[0m \u001b[0mtensorflow\u001b[0m\u001b[1;33m.\u001b[0m\u001b[0mpython\u001b[0m\u001b[1;33m.\u001b[0m\u001b[0mkeras\u001b[0m \u001b[1;32mimport\u001b[0m \u001b[0mbackend\u001b[0m\u001b[1;33m\u001b[0m\u001b[1;33m\u001b[0m\u001b[0m\n\u001b[0;32m     38\u001b[0m \u001b[1;32mfrom\u001b[0m \u001b[0mtensorflow\u001b[0m\u001b[1;33m.\u001b[0m\u001b[0mpython\u001b[0m\u001b[1;33m.\u001b[0m\u001b[0mkeras\u001b[0m \u001b[1;32mimport\u001b[0m \u001b[0mcallbacks\u001b[0m\u001b[1;33m\u001b[0m\u001b[1;33m\u001b[0m\u001b[0m\n\u001b[1;32m---> 39\u001b[1;33m \u001b[1;32mfrom\u001b[0m \u001b[0mtensorflow\u001b[0m\u001b[1;33m.\u001b[0m\u001b[0mpython\u001b[0m\u001b[1;33m.\u001b[0m\u001b[0mkeras\u001b[0m \u001b[1;32mimport\u001b[0m \u001b[0msaving\u001b[0m\u001b[1;33m\u001b[0m\u001b[1;33m\u001b[0m\u001b[0m\n\u001b[0m\u001b[0;32m     40\u001b[0m \u001b[1;32mfrom\u001b[0m \u001b[0mtensorflow\u001b[0m\u001b[1;33m.\u001b[0m\u001b[0mpython\u001b[0m\u001b[1;33m.\u001b[0m\u001b[0mkeras\u001b[0m\u001b[1;33m.\u001b[0m\u001b[0mengine\u001b[0m \u001b[1;32mimport\u001b[0m \u001b[0mbase_layer\u001b[0m\u001b[1;33m\u001b[0m\u001b[1;33m\u001b[0m\u001b[0m\n\u001b[0;32m     41\u001b[0m \u001b[1;32mfrom\u001b[0m \u001b[0mtensorflow\u001b[0m\u001b[1;33m.\u001b[0m\u001b[0mpython\u001b[0m\u001b[1;33m.\u001b[0m\u001b[0mkeras\u001b[0m\u001b[1;33m.\u001b[0m\u001b[0mengine\u001b[0m \u001b[1;32mimport\u001b[0m \u001b[0mbase_layer_utils\u001b[0m\u001b[1;33m\u001b[0m\u001b[1;33m\u001b[0m\u001b[0m\n",
      "\u001b[1;32m~\\anaconda3\\lib\\site-packages\\tensorflow\\python\\keras\\saving\\__init__.py\u001b[0m in \u001b[0;36m<module>\u001b[1;34m\u001b[0m\n\u001b[0;32m     31\u001b[0m \u001b[1;32mfrom\u001b[0m \u001b[0mtensorflow\u001b[0m\u001b[1;33m.\u001b[0m\u001b[0mpython\u001b[0m\u001b[1;33m.\u001b[0m\u001b[0mkeras\u001b[0m\u001b[1;33m.\u001b[0m\u001b[0msaving\u001b[0m\u001b[1;33m.\u001b[0m\u001b[0msave\u001b[0m \u001b[1;32mimport\u001b[0m \u001b[0mload_model\u001b[0m\u001b[1;33m\u001b[0m\u001b[1;33m\u001b[0m\u001b[0m\n\u001b[0;32m     32\u001b[0m \u001b[1;32mfrom\u001b[0m \u001b[0mtensorflow\u001b[0m\u001b[1;33m.\u001b[0m\u001b[0mpython\u001b[0m\u001b[1;33m.\u001b[0m\u001b[0mkeras\u001b[0m\u001b[1;33m.\u001b[0m\u001b[0msaving\u001b[0m\u001b[1;33m.\u001b[0m\u001b[0msave\u001b[0m \u001b[1;32mimport\u001b[0m \u001b[0msave_model\u001b[0m\u001b[1;33m\u001b[0m\u001b[1;33m\u001b[0m\u001b[0m\n\u001b[1;32m---> 33\u001b[1;33m \u001b[1;32mfrom\u001b[0m \u001b[0mtensorflow\u001b[0m\u001b[1;33m.\u001b[0m\u001b[0mpython\u001b[0m\u001b[1;33m.\u001b[0m\u001b[0mkeras\u001b[0m\u001b[1;33m.\u001b[0m\u001b[0msaving\u001b[0m\u001b[1;33m.\u001b[0m\u001b[0msaved_model\u001b[0m \u001b[1;32mimport\u001b[0m \u001b[0mexport_saved_model\u001b[0m\u001b[1;33m\u001b[0m\u001b[1;33m\u001b[0m\u001b[0m\n\u001b[0m\u001b[0;32m     34\u001b[0m \u001b[1;32mfrom\u001b[0m \u001b[0mtensorflow\u001b[0m\u001b[1;33m.\u001b[0m\u001b[0mpython\u001b[0m\u001b[1;33m.\u001b[0m\u001b[0mkeras\u001b[0m\u001b[1;33m.\u001b[0m\u001b[0msaving\u001b[0m\u001b[1;33m.\u001b[0m\u001b[0msaved_model\u001b[0m \u001b[1;32mimport\u001b[0m \u001b[0mload_from_saved_model\u001b[0m\u001b[1;33m\u001b[0m\u001b[1;33m\u001b[0m\u001b[0m\n\u001b[0;32m     35\u001b[0m \u001b[1;32mfrom\u001b[0m \u001b[0mtensorflow\u001b[0m\u001b[1;33m.\u001b[0m\u001b[0mpython\u001b[0m\u001b[1;33m.\u001b[0m\u001b[0mkeras\u001b[0m\u001b[1;33m.\u001b[0m\u001b[0msaving\u001b[0m\u001b[1;33m.\u001b[0m\u001b[0msaving_utils\u001b[0m \u001b[1;32mimport\u001b[0m \u001b[0mtrace_model_call\u001b[0m\u001b[1;33m\u001b[0m\u001b[1;33m\u001b[0m\u001b[0m\n",
      "\u001b[1;31mImportError\u001b[0m: cannot import name 'export_saved_model' from 'tensorflow.python.keras.saving.saved_model' (C:\\Users\\SMT002\\anaconda3\\lib\\site-packages\\tensorflow\\python\\keras\\saving\\saved_model\\__init__.py)"
     ]
    }
   ],
   "source": [
    "from tensorflow.keras.preprocessing.image import ImageDataGenerator\n",
    "\n",
    "# 픽셀값을 0 - 255 범위에서 0.0 -1.0 범위로 변경\n",
    "train_gen = ImageDataGenerator(rescale=1.0/255)\n",
    "test_gen = ImageDataGenerator(rescale=1.0/255)\n",
    "validation_gen = ImageDataGenerator(rescale=1.0/255)\n",
    "\n",
    "# 폴더로부터 데이터를 가져와서 처리\n",
    "train_dir = './new_data/cats_and_dogs_small/train/'\n",
    "test_dir = './new_data/cats_and_dogs_small/test/'\n",
    "validation_dir = './new_data/cats_and_dogs_small/validation/'\n",
    "\n",
    "train_generator = train_gen.flow_from_directory(\n",
    "        train_dir,   #데이터를 가져올 폴더\n",
    "        target_size = (150, 150),    # 이미지 크기를 동일하게 맞춤\n",
    "        batch_size = 20,          # 한 번에 읽어올 이미지 개수\n",
    "        class_mode= 'binary'      # 라벨링 방법 (디렉토리 명에서 알파벳 순으로 0부터 라벨링)\n",
    "                # binary : 0과 1만으로 라벨링\n",
    "                # categorical : 0부터 폴더 개수만큼 라벨링(원핫 인코딩0)\n",
    "                # sparse : 0부터 폴더 개수만큼 라벨링(원핫 인코딩X)\n",
    ")\n",
    "\n",
    "test_generator = test_gen.flow_from_directory(\n",
    "        test_dir,   \n",
    "        target_size = (150, 150),  \n",
    "        batch_size = 20,   \n",
    "        class_mode= 'binary'  )\n",
    "\n",
    "validation_generator = validation_gen.flow_from_directory(\n",
    "        validation_dir,   \n",
    "        target_size = (150, 150),  \n",
    "        batch_size = 20,   \n",
    "        class_mode= 'binary'  )"
   ]
  },
  {
   "cell_type": "code",
   "execution_count": 4,
   "metadata": {},
   "outputs": [
    {
     "data": {
      "text/plain": [
       "({'cats': 0, 'dogs': 1}, {'cats': 0, 'dogs': 1}, {'cats': 0, 'dogs': 1})"
      ]
     },
     "execution_count": 4,
     "metadata": {},
     "output_type": "execute_result"
    }
   ],
   "source": [
    "train_generator.class_indices, test_generator.class_indices, validation_generator.class_indices"
   ]
  },
  {
   "cell_type": "markdown",
   "metadata": {},
   "source": [
    "### 신경망 초기화"
   ]
  },
  {
   "cell_type": "code",
   "execution_count": 5,
   "metadata": {},
   "outputs": [],
   "source": [
    "import numpy as np\n",
    "import tensorflow as tf\n",
    "\n",
    "seed = 0\n",
    "np.random.seed(seed)\n",
    "tf.random.set_seed(seed)"
   ]
  },
  {
   "cell_type": "markdown",
   "metadata": {},
   "source": [
    "### 신경망 설계"
   ]
  },
  {
   "cell_type": "code",
   "execution_count": 6,
   "metadata": {},
   "outputs": [],
   "source": [
    "from tensorflow.keras.models import Sequential\n",
    "from tensorflow.keras.layers import Conv2D, MaxPooling2D, Flatten\n",
    "from tensorflow.keras.layers import Dense, Dropout"
   ]
  },
  {
   "cell_type": "markdown",
   "metadata": {},
   "source": [
    "- CNN 망을 추가 --> 특성 추출해서 요약\n",
    "- Conv2D() : 컨볼루션 수행\n",
    "- MaxPooling2D() : 이미지 크기 축소\n",
    "- Flatten() : 다차원 데이터를 1차원으로 변환\n",
    "- Dropout() : 과대적합을 방지하기 위해 사용되는 노드를 제한 (0.5 이하)\n",
    "- padding : 컨볼루션 후에 이미지 크기가 줄어드는 것을 방지 (외곽을 0으로 채움!)\n",
    "- stride : 필터를 몇 픽셀씩 이동할 것인지 설정"
   ]
  },
  {
   "cell_type": "code",
   "execution_count": 7,
   "metadata": {},
   "outputs": [
    {
     "name": "stdout",
     "output_type": "stream",
     "text": [
      "Model: \"sequential\"\n",
      "_________________________________________________________________\n",
      "Layer (type)                 Output Shape              Param #   \n",
      "=================================================================\n",
      "conv2d (Conv2D)              (None, 150, 150, 32)      896       \n",
      "_________________________________________________________________\n",
      "max_pooling2d (MaxPooling2D) (None, 75, 75, 32)        0         \n",
      "_________________________________________________________________\n",
      "conv2d_1 (Conv2D)            (None, 75, 75, 64)        18496     \n",
      "_________________________________________________________________\n",
      "max_pooling2d_1 (MaxPooling2 (None, 37, 37, 64)        0         \n",
      "_________________________________________________________________\n",
      "conv2d_2 (Conv2D)            (None, 37, 37, 128)       73856     \n",
      "_________________________________________________________________\n",
      "max_pooling2d_2 (MaxPooling2 (None, 18, 18, 128)       0         \n",
      "_________________________________________________________________\n",
      "flatten (Flatten)            (None, 41472)             0         \n",
      "_________________________________________________________________\n",
      "dense (Dense)                (None, 512)               21234176  \n",
      "_________________________________________________________________\n",
      "dropout (Dropout)            (None, 512)               0         \n",
      "_________________________________________________________________\n",
      "dense_1 (Dense)              (None, 128)               65664     \n",
      "_________________________________________________________________\n",
      "dropout_1 (Dropout)          (None, 128)               0         \n",
      "_________________________________________________________________\n",
      "dense_2 (Dense)              (None, 1)                 129       \n",
      "=================================================================\n",
      "Total params: 21,393,217\n",
      "Trainable params: 21,393,217\n",
      "Non-trainable params: 0\n",
      "_________________________________________________________________\n"
     ]
    }
   ],
   "source": [
    "model1 = Sequential()\n",
    "\n",
    "# CNN 층 ==> 입력층\n",
    "# 필터 수, 필터 크기, 입력데이터 크기, 활성화 함수\n",
    "model1.add(Conv2D(32, (3,3), input_shape = (150, 150, 3), \n",
    "                  padding='same',\n",
    "                 activation='relu'))\n",
    "model1.add(MaxPooling2D(pool_size=2))\n",
    "\n",
    "model1.add(Conv2D(64, (3,3), padding='same', activation='relu'))\n",
    "model1.add(MaxPooling2D(pool_size=2))\n",
    "\n",
    "model1.add(Conv2D(128, (3,3), padding='same', activation='relu'))\n",
    "model1.add(MaxPooling2D(pool_size=2))\n",
    "\n",
    "\n",
    "model1.add(Flatten())\n",
    "\n",
    "# 은닉층\n",
    "\n",
    "model1.add(Dense(512, activation='relu'))\n",
    "model1.add(Dropout(0.3)) \n",
    "model1.add(Dense(128, activation='relu'))\n",
    "model1.add(Dropout(0.2))\n",
    "\n",
    "# 출력층\n",
    "model1.add(Dense(1, activation='sigmoid'))\n",
    "\n",
    "model1.summary()"
   ]
  },
  {
   "cell_type": "code",
   "execution_count": 8,
   "metadata": {},
   "outputs": [],
   "source": [
    "# class_mode : binary -> binary_crossentropy\n",
    "# class_mode : categorical -> categorical_crossentropy\n",
    "# class_mode : sparse -> sparse_categorical_crossentropy\n",
    "\n",
    "model1.compile(loss='binary_crossentropy', \n",
    "              optimizer='adam',\n",
    "              metrics=['acc'])"
   ]
  },
  {
   "cell_type": "code",
   "execution_count": 9,
   "metadata": {},
   "outputs": [],
   "source": [
    "# validation_steps=total_validate//batch_size,\n",
    "# steps_per_epoch=total_train//batch_size,"
   ]
  },
  {
   "cell_type": "code",
   "execution_count": 10,
   "metadata": {},
   "outputs": [
    {
     "name": "stdout",
     "output_type": "stream",
     "text": [
      "WARNING:tensorflow:From <ipython-input-10-3caeda332ff6>:5: Model.fit_generator (from tensorflow.python.keras.engine.training) is deprecated and will be removed in a future version.\n",
      "Instructions for updating:\n",
      "Please use Model.fit, which supports generators.\n",
      "WARNING:tensorflow:sample_weight modes were coerced from\n",
      "  ...\n",
      "    to  \n",
      "  ['...']\n",
      "WARNING:tensorflow:sample_weight modes were coerced from\n",
      "  ...\n",
      "    to  \n",
      "  ['...']\n",
      "Train for 100 steps, validate for 50 steps\n",
      "Epoch 1/30\n",
      "100/100 [==============================] - 8s 76ms/step - loss: 0.7128 - acc: 0.5390 - val_loss: 0.6841 - val_acc: 0.5500\n",
      "Epoch 2/30\n",
      "100/100 [==============================] - 5s 55ms/step - loss: 0.6907 - acc: 0.5460 - val_loss: 0.6846 - val_acc: 0.5640\n",
      "Epoch 3/30\n",
      "100/100 [==============================] - 6s 55ms/step - loss: 0.6632 - acc: 0.6305 - val_loss: 0.6424 - val_acc: 0.6570\n",
      "Epoch 4/30\n",
      "100/100 [==============================] - 5s 54ms/step - loss: 0.5989 - acc: 0.6925 - val_loss: 0.7237 - val_acc: 0.5260\n",
      "Epoch 5/30\n",
      "100/100 [==============================] - 5s 54ms/step - loss: 0.5437 - acc: 0.7390 - val_loss: 0.6520 - val_acc: 0.6660\n",
      "Epoch 6/30\n",
      "100/100 [==============================] - 5s 54ms/step - loss: 0.4627 - acc: 0.7785 - val_loss: 0.6644 - val_acc: 0.6870\n",
      "Epoch 7/30\n",
      "100/100 [==============================] - 5s 54ms/step - loss: 0.3567 - acc: 0.8455 - val_loss: 0.7978 - val_acc: 0.6860\n",
      "Epoch 8/30\n",
      "100/100 [==============================] - 5s 54ms/step - loss: 0.2471 - acc: 0.9045 - val_loss: 0.9956 - val_acc: 0.6880\n",
      "Epoch 9/30\n",
      "100/100 [==============================] - 5s 53ms/step - loss: 0.1926 - acc: 0.9285 - val_loss: 1.1915 - val_acc: 0.6640\n",
      "Epoch 10/30\n",
      "100/100 [==============================] - 5s 53ms/step - loss: 0.1196 - acc: 0.9470 - val_loss: 1.5878 - val_acc: 0.6910\n",
      "Epoch 11/30\n",
      "100/100 [==============================] - 5s 54ms/step - loss: 0.0939 - acc: 0.9645 - val_loss: 2.1024 - val_acc: 0.6750\n",
      "Epoch 12/30\n",
      "100/100 [==============================] - 5s 54ms/step - loss: 0.1067 - acc: 0.9645 - val_loss: 2.2017 - val_acc: 0.6720\n",
      "Epoch 13/30\n",
      "100/100 [==============================] - 5s 54ms/step - loss: 0.0686 - acc: 0.9755 - val_loss: 2.2367 - val_acc: 0.6690\n",
      "Epoch 14/30\n",
      "100/100 [==============================] - 5s 54ms/step - loss: 0.0545 - acc: 0.9870 - val_loss: 2.6290 - val_acc: 0.6520\n",
      "Epoch 15/30\n",
      "100/100 [==============================] - 5s 54ms/step - loss: 0.0408 - acc: 0.9855 - val_loss: 2.1639 - val_acc: 0.6690\n",
      "Epoch 16/30\n",
      "100/100 [==============================] - 5s 54ms/step - loss: 0.0150 - acc: 0.9960 - val_loss: 2.8417 - val_acc: 0.6810\n",
      "Epoch 17/30\n",
      "100/100 [==============================] - 5s 54ms/step - loss: 0.0038 - acc: 0.9995 - val_loss: 3.2390 - val_acc: 0.6660\n",
      "Epoch 18/30\n",
      "100/100 [==============================] - 5s 54ms/step - loss: 0.0222 - acc: 0.9900 - val_loss: 3.0463 - val_acc: 0.6540\n",
      "Epoch 19/30\n",
      "100/100 [==============================] - 5s 54ms/step - loss: 0.0432 - acc: 0.9890 - val_loss: 2.4590 - val_acc: 0.6890\n",
      "Epoch 20/30\n",
      "100/100 [==============================] - 5s 55ms/step - loss: 0.0138 - acc: 0.9955 - val_loss: 2.8819 - val_acc: 0.6890\n",
      "Epoch 21/30\n",
      "100/100 [==============================] - 5s 54ms/step - loss: 0.0480 - acc: 0.9850 - val_loss: 2.0385 - val_acc: 0.6550\n",
      "Epoch 22/30\n",
      "100/100 [==============================] - 5s 54ms/step - loss: 0.0305 - acc: 0.9920 - val_loss: 2.7429 - val_acc: 0.6800\n",
      "Epoch 23/30\n",
      "100/100 [==============================] - 5s 54ms/step - loss: 0.0268 - acc: 0.9910 - val_loss: 2.8144 - val_acc: 0.6690\n",
      "Epoch 24/30\n",
      "100/100 [==============================] - 5s 54ms/step - loss: 0.0094 - acc: 0.9985 - val_loss: 3.3191 - val_acc: 0.6630\n",
      "Epoch 25/30\n",
      "100/100 [==============================] - 5s 54ms/step - loss: 0.0075 - acc: 0.9980 - val_loss: 3.4143 - val_acc: 0.6820\n",
      "Epoch 26/30\n",
      "100/100 [==============================] - 5s 54ms/step - loss: 0.0034 - acc: 0.9990 - val_loss: 3.6032 - val_acc: 0.6510\n",
      "Epoch 27/30\n",
      "100/100 [==============================] - 5s 54ms/step - loss: 0.0280 - acc: 0.9945 - val_loss: 2.7929 - val_acc: 0.6720\n",
      "Epoch 28/30\n",
      "100/100 [==============================] - 5s 54ms/step - loss: 0.0049 - acc: 0.9990 - val_loss: 3.3777 - val_acc: 0.6770\n",
      "Epoch 29/30\n",
      "100/100 [==============================] - 5s 54ms/step - loss: 0.0081 - acc: 0.9975 - val_loss: 3.4407 - val_acc: 0.6560\n",
      "Epoch 30/30\n",
      "100/100 [==============================] - 5s 54ms/step - loss: 0.0053 - acc: 0.9990 - val_loss: 3.5003 - val_acc: 0.6820\n"
     ]
    }
   ],
   "source": [
    "h1 = model1.fit_generator(generator=train_generator,\n",
    "                             epochs=30,\n",
    "                             steps_per_epoch=100, # 데이터 개수 --> 배치 사이즈로 나눈 값\n",
    "                            validation_data = validation_generator,\n",
    "                            validation_steps = 50\n",
    "                         )\n",
    "# 모델 저장\n",
    "model1.save_weights('./model/cats_and_dogs_001.hdf5')"
   ]
  },
  {
   "cell_type": "markdown",
   "metadata": {},
   "source": [
    "### 결과 시각화 해보기"
   ]
  },
  {
   "cell_type": "code",
   "execution_count": 11,
   "metadata": {},
   "outputs": [
    {
     "data": {
      "image/png": "[encoded data removed]",
      "text/plain": [
       "<Figure size 432x288 with 1 Axes>"
      ]
     },
     "metadata": {
      "needs_background": "light"
     },
     "output_type": "display_data"
    }
   ],
   "source": [
    "import matplotlib.pyplot as plt\n",
    "\n",
    "acc = h1.history['acc']\n",
    "val_acc = h1.history['val_acc']\n",
    "\n",
    "epochs = range(1, len(acc) + 1)\n",
    "\n",
    "plt.plot(epochs, acc, 'r', label = 'acc')\n",
    "plt.plot(epochs, val_acc, 'b', label = 'val_acc')\n",
    "plt.legend()\n",
    "plt.show()"
   ]
  },
  {
   "cell_type": "code",
   "execution_count": 12,
   "metadata": {},
   "outputs": [
    {
     "name": "stdout",
     "output_type": "stream",
     "text": [
      "WARNING:tensorflow:From <ipython-input-12-732c1e8907bd>:3: Model.predict_generator (from tensorflow.python.keras.engine.training) is deprecated and will be removed in a future version.\n",
      "Instructions for updating:\n",
      "Please use Model.predict, which supports generators.\n",
      "파일명 : cats\\cat.1000.jpg\n",
      "예측결과 : ['고양이']\n",
      "파일명 : cats\\cat.1001.jpg\n",
      "예측결과 : ['개']\n",
      "파일명 : cats\\cat.1002.jpg\n",
      "예측결과 : ['고양이']\n",
      "파일명 : cats\\cat.1003.jpg\n",
      "예측결과 : ['개']\n",
      "파일명 : cats\\cat.1004.jpg\n",
      "예측결과 : ['고양이']\n",
      "파일명 : cats\\cat.1005.jpg\n",
      "예측결과 : ['고양이']\n",
      "파일명 : cats\\cat.1006.jpg\n",
      "예측결과 : ['개']\n",
      "파일명 : cats\\cat.1007.jpg\n",
      "예측결과 : ['고양이']\n",
      "파일명 : cats\\cat.1008.jpg\n",
      "예측결과 : ['개']\n",
      "파일명 : cats\\cat.1009.jpg\n",
      "예측결과 : ['개']\n"
     ]
    }
   ],
   "source": [
    "\n"
   ]
  },
  {
   "cell_type": "markdown",
   "metadata": {},
   "source": [
    "# -------------------------------------------------------------------------------------"
   ]
  },
  {
   "attachments": {
    "image.png": {
     "image/png": "[encoded data removed]"
    }
   },
   "cell_type": "markdown",
   "metadata": {},
   "source": [
    "## 과대적합 해소 -- 0. Dropout\n",
    "![image.png](attachment:image.png)"
   ]
  },
  {
   "cell_type": "markdown",
   "metadata": {},
   "source": [
    "# -------------------------------------------------------------------------------------"
   ]
  },
  {
   "cell_type": "markdown",
   "metadata": {},
   "source": [
    "## 과대적합 해소 ---  1. 데이터 확장\n",
    "• rotation_range = 360 : 0° 에서 360° 사이에서 회전 <br>\n",
    "• width_shift_range = 0.1 : 전체에서 10% 내외 수평이동 <br>\n",
    "• height_shift_range = 0.1 : 전체에서 10% 내외 수직이동 <br>\n",
    "• shear_range = 0.5 : 0.5라디안 내외 시계반대방향으로 변형 <br>\n",
    "• zoom_range = 0.3 : 0.7~1.3배로 축소/확대 <br>\n",
    "• Horizontal_flip = True : 수평방향으로 뒤집기 <br>\n",
    "• Vertical_flip = True : 수직방향으로 뒤집기 <br>"
   ]
  },
  {
   "cell_type": "markdown",
   "metadata": {},
   "source": [
    "### 증식(augmentation)을 통한 데이터 확장\n",
    "--> 훈련데이터가 부족한 문제를 해결하기 위함"
   ]
  },
  {
   "cell_type": "code",
   "execution_count": 13,
   "metadata": {},
   "outputs": [],
   "source": [
    "train_gen = ImageDataGenerator(rescale=1.0/255,\n",
    "                              rotation_range= 20,\n",
    "                              width_shift_range=0.2,\n",
    "                              height_shift_range=0.1,\n",
    "                              shear_range=0.1,\n",
    "                              zoom_range=0.1,\n",
    "                              horizontal_flip=True,\n",
    "                               # 확대 시 이미지가 깨지는 문제를 보정\n",
    "                              fill_mode='nearest')\n",
    "test_gen = ImageDataGenerator(rescale=1.0/255)\n",
    "validation_gen = ImageDataGenerator(rescale=1.0/255)"
   ]
  },
  {
   "cell_type": "code",
   "execution_count": 14,
   "metadata": {},
   "outputs": [
    {
     "name": "stdout",
     "output_type": "stream",
     "text": [
      "Found 2000 images belonging to 2 classes.\n",
      "Found 1000 images belonging to 2 classes.\n",
      "Found 1000 images belonging to 2 classes.\n"
     ]
    }
   ],
   "source": [
    "train_generator = train_gen.flow_from_directory(\n",
    "        train_dir,  \n",
    "        target_size = (150, 150),   \n",
    "        batch_size = 20,         \n",
    "        class_mode= 'binary'     \n",
    ")\n",
    "\n",
    "test_generator = test_gen.flow_from_directory(\n",
    "        test_dir,   \n",
    "        target_size = (150, 150),  \n",
    "        batch_size = 20,   \n",
    "        class_mode= 'binary'  \n",
    ")\n",
    "\n",
    "validation_generator = validation_gen.flow_from_directory(\n",
    "        validation_dir,   \n",
    "        target_size = (150, 150),  \n",
    "        batch_size = 20,   \n",
    "        class_mode= 'binary'  \n",
    ")"
   ]
  },
  {
   "cell_type": "code",
   "execution_count": 15,
   "metadata": {},
   "outputs": [],
   "source": [
    "model1.compile(loss='binary_crossentropy', \n",
    "              optimizer='adam',\n",
    "              metrics=['acc'])"
   ]
  },
  {
   "cell_type": "code",
   "execution_count": 16,
   "metadata": {},
   "outputs": [
    {
     "name": "stdout",
     "output_type": "stream",
     "text": [
      "WARNING:tensorflow:sample_weight modes were coerced from\n",
      "  ...\n",
      "    to  \n",
      "  ['...']\n",
      "WARNING:tensorflow:sample_weight modes were coerced from\n",
      "  ...\n",
      "    to  \n",
      "  ['...']\n",
      "Train for 100 steps, validate for 50 steps\n",
      "Epoch 1/30\n",
      "100/100 [==============================] - 12s 121ms/step - loss: 0.8362 - acc: 0.6125 - val_loss: 0.6562 - val_acc: 0.6510\n",
      "Epoch 2/30\n",
      "100/100 [==============================] - 12s 116ms/step - loss: 0.6314 - acc: 0.6570 - val_loss: 0.6178 - val_acc: 0.6860\n",
      "Epoch 3/30\n",
      "100/100 [==============================] - 12s 116ms/step - loss: 0.6003 - acc: 0.6760 - val_loss: 0.5955 - val_acc: 0.7080\n",
      "Epoch 4/30\n",
      "100/100 [==============================] - 12s 116ms/step - loss: 0.5636 - acc: 0.7145 - val_loss: 0.5926 - val_acc: 0.7010\n",
      "Epoch 5/30\n",
      "100/100 [==============================] - 12s 116ms/step - loss: 0.5487 - acc: 0.7305 - val_loss: 0.6656 - val_acc: 0.7020\n",
      "Epoch 6/30\n",
      "100/100 [==============================] - 12s 116ms/step - loss: 0.5421 - acc: 0.7290 - val_loss: 0.5783 - val_acc: 0.7330\n",
      "Epoch 7/30\n",
      "100/100 [==============================] - 12s 116ms/step - loss: 0.5487 - acc: 0.7295 - val_loss: 0.5941 - val_acc: 0.7070\n",
      "Epoch 8/30\n",
      "100/100 [==============================] - 12s 116ms/step - loss: 0.5540 - acc: 0.7310 - val_loss: 0.5406 - val_acc: 0.7280\n",
      "Epoch 9/30\n",
      "100/100 [==============================] - 12s 117ms/step - loss: 0.5098 - acc: 0.7510 - val_loss: 0.5371 - val_acc: 0.7430\n",
      "Epoch 10/30\n",
      "100/100 [==============================] - 12s 116ms/step - loss: 0.5263 - acc: 0.7445 - val_loss: 0.5366 - val_acc: 0.7390\n",
      "Epoch 11/30\n",
      "100/100 [==============================] - 12s 116ms/step - loss: 0.5042 - acc: 0.7550 - val_loss: 0.5221 - val_acc: 0.7520\n",
      "Epoch 12/30\n",
      "100/100 [==============================] - 12s 116ms/step - loss: 0.4926 - acc: 0.7605 - val_loss: 0.5371 - val_acc: 0.7460\n",
      "Epoch 13/30\n",
      "100/100 [==============================] - 12s 116ms/step - loss: 0.4888 - acc: 0.7760 - val_loss: 0.5480 - val_acc: 0.7480\n",
      "Epoch 14/30\n",
      "100/100 [==============================] - 12s 116ms/step - loss: 0.4802 - acc: 0.7690 - val_loss: 0.5742 - val_acc: 0.7310\n",
      "Epoch 15/30\n",
      "100/100 [==============================] - 12s 116ms/step - loss: 0.4915 - acc: 0.7515 - val_loss: 0.5641 - val_acc: 0.7190\n",
      "Epoch 16/30\n",
      "100/100 [==============================] - 12s 116ms/step - loss: 0.4792 - acc: 0.7690 - val_loss: 0.5561 - val_acc: 0.7490\n",
      "Epoch 17/30\n",
      "100/100 [==============================] - 12s 116ms/step - loss: 0.4681 - acc: 0.7820 - val_loss: 0.5483 - val_acc: 0.7470\n",
      "Epoch 18/30\n",
      "100/100 [==============================] - 12s 116ms/step - loss: 0.4881 - acc: 0.7650 - val_loss: 0.5337 - val_acc: 0.7450\n",
      "Epoch 19/30\n",
      "100/100 [==============================] - 12s 116ms/step - loss: 0.4640 - acc: 0.7775 - val_loss: 0.5550 - val_acc: 0.7480\n",
      "Epoch 20/30\n",
      "100/100 [==============================] - 12s 116ms/step - loss: 0.4716 - acc: 0.7645 - val_loss: 0.5475 - val_acc: 0.7230\n",
      "Epoch 21/30\n",
      "100/100 [==============================] - 12s 116ms/step - loss: 0.4651 - acc: 0.7860 - val_loss: 0.5437 - val_acc: 0.7450\n",
      "Epoch 22/30\n",
      "100/100 [==============================] - 12s 117ms/step - loss: 0.4282 - acc: 0.7970 - val_loss: 0.5347 - val_acc: 0.7830\n",
      "Epoch 23/30\n",
      "100/100 [==============================] - 12s 117ms/step - loss: 0.4452 - acc: 0.7920 - val_loss: 0.5890 - val_acc: 0.7470\n",
      "Epoch 24/30\n",
      "100/100 [==============================] - 12s 118ms/step - loss: 0.4524 - acc: 0.7955 - val_loss: 0.5116 - val_acc: 0.7640\n",
      "Epoch 25/30\n",
      "100/100 [==============================] - 12s 117ms/step - loss: 0.4206 - acc: 0.8030 - val_loss: 0.5321 - val_acc: 0.7740\n",
      "Epoch 26/30\n",
      "100/100 [==============================] - 12s 118ms/step - loss: 0.4450 - acc: 0.7955 - val_loss: 0.5368 - val_acc: 0.7760\n",
      "Epoch 27/30\n",
      "100/100 [==============================] - 12s 117ms/step - loss: 0.4246 - acc: 0.8035 - val_loss: 0.5271 - val_acc: 0.7520\n",
      "Epoch 28/30\n",
      "100/100 [==============================] - 12s 116ms/step - loss: 0.4214 - acc: 0.8090 - val_loss: 0.5047 - val_acc: 0.7660\n",
      "Epoch 29/30\n",
      "100/100 [==============================] - 12s 116ms/step - loss: 0.4212 - acc: 0.8130 - val_loss: 0.5932 - val_acc: 0.7500\n",
      "Epoch 30/30\n",
      "100/100 [==============================] - 12s 116ms/step - loss: 0.4088 - acc: 0.8045 - val_loss: 0.5313 - val_acc: 0.7540\n"
     ]
    }
   ],
   "source": [
    "h1 = model1.fit_generator(generator=train_generator,\n",
    "                             epochs=30,\n",
    "                             steps_per_epoch=100, # 데이터 개수 --> 배치 사이즈로 나눈 값\n",
    "                            validation_data = validation_generator,\n",
    "                            validation_steps = 50\n",
    "                         )\n",
    "# 모델 저장\n",
    "model1.save_weights('./model/cats_and_dogs_002.hdf5')"
   ]
  },
  {
   "cell_type": "code",
   "execution_count": 17,
   "metadata": {},
   "outputs": [
    {
     "data": {
      "image/png": "[encoded data removed]",
      "text/plain": [
       "<Figure size 432x288 with 1 Axes>"
      ]
     },
     "metadata": {
      "needs_background": "light"
     },
     "output_type": "display_data"
    }
   ],
   "source": [
    "acc = h1.history['acc']\n",
    "val_acc = h1.history['val_acc']\n",
    "\n",
    "epochs = range(1, len(acc) + 1)\n",
    "\n",
    "plt.plot(epochs, acc, 'r', label = 'acc')\n",
    "plt.plot(epochs, val_acc, 'b', label = 'val_acc')\n",
    "plt.legend()\n",
    "plt.show()\n",
    "\n",
    "## 그래프 오락가락이 심한 이유 ?? : 가짜 데이터(증식된것)를 넣다 보니 틀렸을 때 정확도가 많이 떨어진다"
   ]
  },
  {
   "cell_type": "markdown",
   "metadata": {},
   "source": [
    "# -------------------------------------------------------------------------------------"
   ]
  },
  {
   "cell_type": "markdown",
   "metadata": {},
   "source": [
    "## 전이학습 (Transfer Learning) \n",
    "- 좋은 모델을 가져다가 붙여서 쓰는 것"
   ]
  },
  {
   "cell_type": "code",
   "execution_count": 18,
   "metadata": {},
   "outputs": [],
   "source": [
    "# VGG16 다운로드\n",
    "from tensorflow.keras.applications import VGG16\n",
    "\n",
    "# weights = 'imagenet' : 초기화할 가중치\n",
    "# include_top = False : VGG16의 Dense층을 가져올 것인지 여부\n",
    "# input_shape = (150, 150, 3) : 입력 데이터 크기\n",
    "\n",
    "conv_base = VGG16(weights='imagenet',\n",
    "                 include_top = False,\n",
    "                 input_shape = (150, 150, 3))"
   ]
  },
  {
   "cell_type": "code",
   "execution_count": 19,
   "metadata": {},
   "outputs": [
    {
     "name": "stdout",
     "output_type": "stream",
     "text": [
      "Model: \"vgg16\"\n",
      "_________________________________________________________________\n",
      "Layer (type)                 Output Shape              Param #   \n",
      "=================================================================\n",
      "input_1 (InputLayer)         [(None, 150, 150, 3)]     0         \n",
      "_________________________________________________________________\n",
      "block1_conv1 (Conv2D)        (None, 150, 150, 64)      1792      \n",
      "_________________________________________________________________\n",
      "block1_conv2 (Conv2D)        (None, 150, 150, 64)      36928     \n",
      "_________________________________________________________________\n",
      "block1_pool (MaxPooling2D)   (None, 75, 75, 64)        0         \n",
      "_________________________________________________________________\n",
      "block2_conv1 (Conv2D)        (None, 75, 75, 128)       73856     \n",
      "_________________________________________________________________\n",
      "block2_conv2 (Conv2D)        (None, 75, 75, 128)       147584    \n",
      "_________________________________________________________________\n",
      "block2_pool (MaxPooling2D)   (None, 37, 37, 128)       0         \n",
      "_________________________________________________________________\n",
      "block3_conv1 (Conv2D)        (None, 37, 37, 256)       295168    \n",
      "_________________________________________________________________\n",
      "block3_conv2 (Conv2D)        (None, 37, 37, 256)       590080    \n",
      "_________________________________________________________________\n",
      "block3_conv3 (Conv2D)        (None, 37, 37, 256)       590080    \n",
      "_________________________________________________________________\n",
      "block3_pool (MaxPooling2D)   (None, 18, 18, 256)       0         \n",
      "_________________________________________________________________\n",
      "block4_conv1 (Conv2D)        (None, 18, 18, 512)       1180160   \n",
      "_________________________________________________________________\n",
      "block4_conv2 (Conv2D)        (None, 18, 18, 512)       2359808   \n",
      "_________________________________________________________________\n",
      "block4_conv3 (Conv2D)        (None, 18, 18, 512)       2359808   \n",
      "_________________________________________________________________\n",
      "block4_pool (MaxPooling2D)   (None, 9, 9, 512)         0         \n",
      "_________________________________________________________________\n",
      "block5_conv1 (Conv2D)        (None, 9, 9, 512)         2359808   \n",
      "_________________________________________________________________\n",
      "block5_conv2 (Conv2D)        (None, 9, 9, 512)         2359808   \n",
      "_________________________________________________________________\n",
      "block5_conv3 (Conv2D)        (None, 9, 9, 512)         2359808   \n",
      "_________________________________________________________________\n",
      "block5_pool (MaxPooling2D)   (None, 4, 4, 512)         0         \n",
      "=================================================================\n",
      "Total params: 14,714,688\n",
      "Trainable params: 14,714,688\n",
      "Non-trainable params: 0\n",
      "_________________________________________________________________\n"
     ]
    }
   ],
   "source": [
    "conv_base.summary()"
   ]
  },
  {
   "cell_type": "code",
   "execution_count": 20,
   "metadata": {},
   "outputs": [],
   "source": [
    "import os\n",
    "import numpy"
   ]
  },
  {
   "cell_type": "code",
   "execution_count": 21,
   "metadata": {},
   "outputs": [],
   "source": [
    "train_gen = ImageDataGenerator(rescale=1.0/255)\n",
    "test_gen = ImageDataGenerator(rescale=1.0/255)\n",
    "validation_gen = ImageDataGenerator(rescale=1.0/255)\n",
    "\n",
    "train_dir = './new_data/cats_and_dogs_small/train/'\n",
    "test_dir = './new_data/cats_and_dogs_small/test/'\n",
    "validation_dir = './new_data/cats_and_dogs_small/validation/'"
   ]
  },
  {
   "cell_type": "code",
   "execution_count": 22,
   "metadata": {},
   "outputs": [],
   "source": [
    "# VGG 16을 이용해서 특성 추출\n",
    "def extract_feature(directory, cnt, bat_size) :\n",
    "    # VGG16 결과로 받을 최종 특성\n",
    "    feature = np.zeros(shape = (cnt, 4, 4, 512 )) \n",
    "    # --> shape : VGG16에서 넘어온 데이터(None, 4, 4, 512) 를 넣어줌\n",
    "    # 라벨의 수\n",
    "    label = np.zeros(shape = cnt)\n",
    "    # --> shape : 넘어오는 이미지 수 만큼\n",
    "    \n",
    "    train_generator = train_gen.flow_from_directory(\n",
    "            directory,  \n",
    "            target_size = (150, 150),   \n",
    "            batch_size = bat_size,         \n",
    "            class_mode= 'binary'     \n",
    "    )\n",
    "    \n",
    "    i = 0 #(카운트)\n",
    "    \n",
    "    # VGG16에서 predict() 함수를 이용해 배치 사이즈만큼 \n",
    "    # 이미지의 특성과 라벨을 가져옴\n",
    "    # generate 결과 -- > 이미지와 라벨(0:cat,1:dog)이 넘어옴\n",
    "    for input_batch, label_batch in train_generator :     # input_batch : 넘어온 이미지 데이터, label_batch : 넘어온 라벨 데이터\n",
    "        # feature 값 뽑는 법 ? \n",
    "        # : VGG에 generator에서 넘어온 이미지 데이터를 넣어줌\n",
    "        feature_batch = conv_base.predict(input_batch)             # predict() : 추출된 특성맵 반환\n",
    "        feature[i*bat_size : (i+1)*bat_size] = feature_batch  # 특성 개수 x 배치 사이즈(20) \n",
    "        # i 를 카운트하며 첫번째 ~ 스무번째 , 두번째 ~ 돌면서 채움\n",
    "        label[i*bat_size : (i+1)*bat_size] = label_batch\n",
    "        \n",
    "        i = i + 1       # batch size 가 20이고, 이미지 개수가 2000개 이므로 i는 100번 돌게 된다.\n",
    "        \n",
    "        if i*bat_size >= cnt : # i*20이 넘어온 이미지 개수보다 커지면 중지\n",
    "            break\n",
    "    return feature, label\n"
   ]
  },
  {
   "cell_type": "code",
   "execution_count": 23,
   "metadata": {},
   "outputs": [
    {
     "name": "stdout",
     "output_type": "stream",
     "text": [
      "Found 2000 images belonging to 2 classes.\n",
      "Found 1000 images belonging to 2 classes.\n",
      "Found 1000 images belonging to 2 classes.\n"
     ]
    }
   ],
   "source": [
    "# train_dir에 있는 2000개의 데이터, batch size 20\n",
    "train_feature , train_label = extract_feature(train_dir, 2000, 20)  \n",
    "test_feature , test_label = extract_feature(test_dir, 1000, 20)  \n",
    "validation_feature , validation_label = extract_feature(validation_dir, 1000, 20)  "
   ]
  },
  {
   "cell_type": "code",
   "execution_count": 24,
   "metadata": {},
   "outputs": [],
   "source": [
    "# VGG에서 넘어온 데이터를 Dense()에 맞도록 변경\n",
    "train_feature = np.reshape(train_feature, (2000, 4*4*512))\n",
    "test_feature = np.reshape(test_feature, (1000, 4*4*512))\n",
    "validation_feature = np.reshape(validation_feature, (1000, 4*4*512))"
   ]
  },
  {
   "cell_type": "code",
   "execution_count": 25,
   "metadata": {},
   "outputs": [],
   "source": [
    "from tensorflow.keras.models import Sequential\n",
    "from tensorflow.keras.layers import Dense, Dropout"
   ]
  },
  {
   "cell_type": "code",
   "execution_count": 26,
   "metadata": {},
   "outputs": [
    {
     "name": "stdout",
     "output_type": "stream",
     "text": [
      "Model: \"sequential_1\"\n",
      "_________________________________________________________________\n",
      "Layer (type)                 Output Shape              Param #   \n",
      "=================================================================\n",
      "dense_3 (Dense)              (None, 512)               4194816   \n",
      "_________________________________________________________________\n",
      "dropout_2 (Dropout)          (None, 512)               0         \n",
      "_________________________________________________________________\n",
      "dense_4 (Dense)              (None, 256)               131328    \n",
      "_________________________________________________________________\n",
      "dropout_3 (Dropout)          (None, 256)               0         \n",
      "_________________________________________________________________\n",
      "dense_5 (Dense)              (None, 128)               32896     \n",
      "_________________________________________________________________\n",
      "dropout_4 (Dropout)          (None, 128)               0         \n",
      "_________________________________________________________________\n",
      "dense_6 (Dense)              (None, 64)                8256      \n",
      "_________________________________________________________________\n",
      "dropout_5 (Dropout)          (None, 64)                0         \n",
      "_________________________________________________________________\n",
      "dense_7 (Dense)              (None, 1)                 65        \n",
      "=================================================================\n",
      "Total params: 4,367,361\n",
      "Trainable params: 4,367,361\n",
      "Non-trainable params: 0\n",
      "_________________________________________________________________\n"
     ]
    }
   ],
   "source": [
    "model = Sequential()\n",
    "\n",
    "model.add(Dense( 512 , input_dim = 4*4*512, activation = 'relu'))\n",
    "model.add(Dropout(0.3))\n",
    "\n",
    "model.add(Dense( 256 , activation = 'relu'))\n",
    "model.add(Dropout(0.3))\n",
    "\n",
    "model.add(Dense( 128 , activation = 'relu'))\n",
    "model.add(Dropout(0.2))\n",
    "\n",
    "model.add(Dense( 64 , activation = 'relu'))\n",
    "model.add(Dropout(0.2))\n",
    "\n",
    "model.add(Dense(1, activation='sigmoid'))\n",
    "\n",
    "model.summary()"
   ]
  },
  {
   "cell_type": "code",
   "execution_count": 27,
   "metadata": {},
   "outputs": [],
   "source": [
    "model.compile(loss='binary_crossentropy', \n",
    "              optimizer='adam',\n",
    "              metrics=['acc'])"
   ]
  },
  {
   "cell_type": "code",
   "execution_count": 28,
   "metadata": {},
   "outputs": [
    {
     "name": "stdout",
     "output_type": "stream",
     "text": [
      "Train on 2000 samples, validate on 1000 samples\n",
      "Epoch 1/20\n",
      "2000/2000 [==============================] - 1s 422us/sample - loss: 0.5687 - acc: 0.7285 - val_loss: 0.2990 - val_acc: 0.8650\n",
      "Epoch 2/20\n",
      "2000/2000 [==============================] - 0s 193us/sample - loss: 0.3160 - acc: 0.8650 - val_loss: 0.2991 - val_acc: 0.8590\n",
      "Epoch 3/20\n",
      "2000/2000 [==============================] - 0s 198us/sample - loss: 0.2343 - acc: 0.9095 - val_loss: 0.2782 - val_acc: 0.8750\n",
      "Epoch 4/20\n",
      "2000/2000 [==============================] - 0s 201us/sample - loss: 0.2005 - acc: 0.9220 - val_loss: 0.3091 - val_acc: 0.8770\n",
      "Epoch 5/20\n",
      "2000/2000 [==============================] - 0s 195us/sample - loss: 0.1543 - acc: 0.9415 - val_loss: 0.3565 - val_acc: 0.8760\n",
      "Epoch 6/20\n",
      "2000/2000 [==============================] - 0s 212us/sample - loss: 0.1157 - acc: 0.9555 - val_loss: 0.4269 - val_acc: 0.8750\n",
      "Epoch 7/20\n",
      "2000/2000 [==============================] - 0s 212us/sample - loss: 0.1203 - acc: 0.9580 - val_loss: 0.3058 - val_acc: 0.8860\n",
      "Epoch 8/20\n",
      "2000/2000 [==============================] - 0s 199us/sample - loss: 0.0778 - acc: 0.9700 - val_loss: 0.4643 - val_acc: 0.8780\n",
      "Epoch 9/20\n",
      "2000/2000 [==============================] - 0s 202us/sample - loss: 0.0820 - acc: 0.9690 - val_loss: 0.3442 - val_acc: 0.8790\n",
      "Epoch 10/20\n",
      "2000/2000 [==============================] - 0s 199us/sample - loss: 0.0830 - acc: 0.9670 - val_loss: 0.4096 - val_acc: 0.8850\n",
      "Epoch 11/20\n",
      "2000/2000 [==============================] - 0s 196us/sample - loss: 0.0737 - acc: 0.9690 - val_loss: 0.4598 - val_acc: 0.8830\n",
      "Epoch 12/20\n",
      "2000/2000 [==============================] - 0s 199us/sample - loss: 0.0766 - acc: 0.9720 - val_loss: 0.8148 - val_acc: 0.8550\n",
      "Epoch 13/20\n",
      "2000/2000 [==============================] - 0s 201us/sample - loss: 0.0687 - acc: 0.9745 - val_loss: 0.5195 - val_acc: 0.8770\n",
      "Epoch 14/20\n",
      "2000/2000 [==============================] - 0s 198us/sample - loss: 0.0385 - acc: 0.9895 - val_loss: 0.7007 - val_acc: 0.8640\n",
      "Epoch 15/20\n",
      "2000/2000 [==============================] - 0s 206us/sample - loss: 0.0677 - acc: 0.9740 - val_loss: 0.4224 - val_acc: 0.8870\n",
      "Epoch 16/20\n",
      "2000/2000 [==============================] - 0s 202us/sample - loss: 0.0519 - acc: 0.9830 - val_loss: 0.5483 - val_acc: 0.8590\n",
      "Epoch 17/20\n",
      "2000/2000 [==============================] - 0s 201us/sample - loss: 0.0272 - acc: 0.9895 - val_loss: 0.5756 - val_acc: 0.8800\n",
      "Epoch 18/20\n",
      "2000/2000 [==============================] - 0s 198us/sample - loss: 0.0364 - acc: 0.9850 - val_loss: 0.6735 - val_acc: 0.8740\n",
      "Epoch 19/20\n",
      "2000/2000 [==============================] - 0s 199us/sample - loss: 0.0394 - acc: 0.9840 - val_loss: 0.5571 - val_acc: 0.8850\n",
      "Epoch 20/20\n",
      "2000/2000 [==============================] - 0s 200us/sample - loss: 0.0675 - acc: 0.9745 - val_loss: 0.4557 - val_acc: 0.8710\n"
     ]
    }
   ],
   "source": [
    "h3 = model.fit(train_feature, train_label,\n",
    "                             epochs=20,\n",
    "                             batch_size=20,\n",
    "                            validation_data = (validation_feature, validation_label)\n",
    "                         )\n",
    "# 모델 저장\n",
    "# model.save_weights('./model/cats_and_dogs_003.hdf5')"
   ]
  },
  {
   "cell_type": "code",
   "execution_count": 29,
   "metadata": {},
   "outputs": [
    {
     "data": {
      "image/png": "[encoded data removed]",
      "text/plain": [
       "<Figure size 432x288 with 1 Axes>"
      ]
     },
     "metadata": {
      "needs_background": "light"
     },
     "output_type": "display_data"
    }
   ],
   "source": [
    "import matplotlib.pyplot as plt\n",
    "\n",
    "acc = h3.history['acc']\n",
    "val_acc = h3.history['val_acc']\n",
    "\n",
    "epochs = range(1, len(acc) + 1)\n",
    "\n",
    "plt.plot(epochs, acc, 'r', label = 'acc')\n",
    "plt.plot(epochs, val_acc, 'b', label = 'val_acc')\n",
    "plt.legend()\n",
    "plt.show()"
   ]
  },
  {
   "cell_type": "code",
   "execution_count": 30,
   "metadata": {},
   "outputs": [
    {
     "data": {
      "image/png": "[encoded data removed]",
      "text/plain": [
       "<Figure size 432x288 with 1 Axes>"
      ]
     },
     "metadata": {
      "needs_background": "light"
     },
     "output_type": "display_data"
    }
   ],
   "source": [
    "import matplotlib.pyplot as plt\n",
    "\n",
    "acc = h3.history['acc']\n",
    "val_acc = h3.history['val_acc']\n",
    "\n",
    "epochs = range(1, len(acc) + 1)\n",
    "\n",
    "plt.plot(epochs, acc, 'r', label = 'acc')\n",
    "plt.plot(epochs, val_acc, 'b', label = 'val_acc')\n",
    "plt.legend()\n",
    "plt.show()"
   ]
  },
  {
   "cell_type": "markdown",
   "metadata": {},
   "source": [
    "### 데이터 증식을 사용하여 특성추출 방식의 전이학습"
   ]
  },
  {
   "cell_type": "code",
   "execution_count": 31,
   "metadata": {},
   "outputs": [
    {
     "name": "stdout",
     "output_type": "stream",
     "text": [
      "Model: \"sequential_2\"\n",
      "_________________________________________________________________\n",
      "Layer (type)                 Output Shape              Param #   \n",
      "=================================================================\n",
      "vgg16 (Model)                (None, 4, 4, 512)         14714688  \n",
      "_________________________________________________________________\n",
      "flatten_1 (Flatten)          (None, 8192)              0         \n",
      "_________________________________________________________________\n",
      "dense_8 (Dense)              (None, 256)               2097408   \n",
      "_________________________________________________________________\n",
      "dropout_6 (Dropout)          (None, 256)               0         \n",
      "_________________________________________________________________\n",
      "dense_9 (Dense)              (None, 1)                 257       \n",
      "=================================================================\n",
      "Total params: 16,812,353\n",
      "Trainable params: 16,812,353\n",
      "Non-trainable params: 0\n",
      "_________________________________________________________________\n"
     ]
    }
   ],
   "source": [
    "from tensorflow.keras.models import Sequential\n",
    "from tensorflow.keras.layers import Dense, Dropout, Flatten\n",
    "from tensorflow.keras.applications import VGG16\n",
    "conv_base = VGG16(weights='imagenet',\n",
    "                 include_top = False,\n",
    "                 input_shape = (150, 150, 3))\n",
    "\n",
    "model = Sequential()\n",
    "\n",
    "# VGG16 모델의 Convnet을 그대로 추가\n",
    "model.add(conv_base)\n",
    "\n",
    "model.add(Flatten())\n",
    "\n",
    "model.add(Dense(256, activation='relu'))\n",
    "model.add(Dropout(0.5))\n",
    "model.add(Dense(1, activation='sigmoid'))\n",
    "\n",
    "model.summary()"
   ]
  },
  {
   "cell_type": "markdown",
   "metadata": {},
   "source": [
    "### 동결\n",
    ": 전이학습으로 가져온 모델의 파라미터가 업데이트되지않도록 방지하는 것"
   ]
  },
  {
   "cell_type": "code",
   "execution_count": 32,
   "metadata": {},
   "outputs": [
    {
     "name": "stdout",
     "output_type": "stream",
     "text": [
      " 동결 전 훈련되는 가중치 개수 : 30\n"
     ]
    }
   ],
   "source": [
    "print(' 동결 전 훈련되는 가중치 개수 :', len(model.trainable_weights))"
   ]
  },
  {
   "cell_type": "code",
   "execution_count": 33,
   "metadata": {},
   "outputs": [
    {
     "name": "stdout",
     "output_type": "stream",
     "text": [
      " 동결 후 훈련되는 가중치 개수 : 4\n"
     ]
    }
   ],
   "source": [
    "# 동결\n",
    "conv_base.trainable = False\n",
    "print(' 동결 후 훈련되는 가중치 개수 :', len(model.trainable_weights))"
   ]
  },
  {
   "cell_type": "markdown",
   "metadata": {},
   "source": [
    "#### 증식 사용"
   ]
  },
  {
   "cell_type": "code",
   "execution_count": 34,
   "metadata": {},
   "outputs": [],
   "source": [
    "from tensorflow.keras.preprocessing.image import ImageDataGenerator\n",
    "\n",
    "train_gen = ImageDataGenerator(rescale=1.0/255,\n",
    "                              rotation_range= 20,\n",
    "                              width_shift_range=0.2,\n",
    "                              height_shift_range=0.1,\n",
    "                              shear_range=0.1,\n",
    "                              zoom_range=0.1,\n",
    "                              horizontal_flip=True,\n",
    "                               # 확대 시 이미지가 깨지는 문제를 보정\n",
    "                              fill_mode='nearest')\n",
    "test_gen = ImageDataGenerator(rescale=1.0/255)\n",
    "validation_gen = ImageDataGenerator(rescale=1.0/255)"
   ]
  },
  {
   "cell_type": "code",
   "execution_count": 35,
   "metadata": {},
   "outputs": [
    {
     "name": "stdout",
     "output_type": "stream",
     "text": [
      "Found 2000 images belonging to 2 classes.\n",
      "Found 1000 images belonging to 2 classes.\n",
      "Found 1000 images belonging to 2 classes.\n"
     ]
    }
   ],
   "source": [
    "train_generator = train_gen.flow_from_directory(\n",
    "        train_dir,  \n",
    "        target_size = (150, 150),   \n",
    "        batch_size = 20,         \n",
    "        class_mode= 'binary'     \n",
    ")\n",
    "\n",
    "test_generator = test_gen.flow_from_directory(\n",
    "        test_dir,   \n",
    "        target_size = (150, 150),  \n",
    "        batch_size = 20,   \n",
    "        class_mode= 'binary'  \n",
    ")\n",
    "\n",
    "validation_generator = validation_gen.flow_from_directory(\n",
    "        validation_dir,   \n",
    "        target_size = (150, 150),  \n",
    "        batch_size = 20,   \n",
    "        class_mode= 'binary'  \n",
    ")"
   ]
  },
  {
   "cell_type": "code",
   "execution_count": 36,
   "metadata": {},
   "outputs": [
    {
     "name": "stdout",
     "output_type": "stream",
     "text": [
      "WARNING:tensorflow:sample_weight modes were coerced from\n",
      "  ...\n",
      "    to  \n",
      "  ['...']\n",
      "WARNING:tensorflow:sample_weight modes were coerced from\n",
      "  ...\n",
      "    to  \n",
      "  ['...']\n",
      "Train for 100 steps, validate for 50 steps\n",
      "Epoch 1/20\n",
      "100/100 [==============================] - 13s 126ms/step - loss: 0.5712 - acc: 0.7420 - val_loss: 0.3060 - val_acc: 0.8670\n",
      "Epoch 2/20\n",
      "100/100 [==============================] - 12s 119ms/step - loss: 0.3691 - acc: 0.8360 - val_loss: 0.2800 - val_acc: 0.8870\n",
      "Epoch 3/20\n",
      "100/100 [==============================] - 12s 119ms/step - loss: 0.3457 - acc: 0.8575 - val_loss: 0.3061 - val_acc: 0.8580\n",
      "Epoch 4/20\n",
      "100/100 [==============================] - 12s 120ms/step - loss: 0.3150 - acc: 0.8690 - val_loss: 0.2516 - val_acc: 0.8940\n",
      "Epoch 5/20\n",
      "100/100 [==============================] - 12s 119ms/step - loss: 0.3037 - acc: 0.8740 - val_loss: 0.2628 - val_acc: 0.8950\n",
      "Epoch 6/20\n",
      "100/100 [==============================] - 12s 120ms/step - loss: 0.2787 - acc: 0.8825 - val_loss: 0.2808 - val_acc: 0.8770\n",
      "Epoch 7/20\n",
      "100/100 [==============================] - 12s 120ms/step - loss: 0.2856 - acc: 0.8795 - val_loss: 0.2490 - val_acc: 0.8910\n",
      "Epoch 8/20\n",
      "100/100 [==============================] - 12s 120ms/step - loss: 0.2875 - acc: 0.8780 - val_loss: 0.2583 - val_acc: 0.8840\n",
      "Epoch 9/20\n",
      "100/100 [==============================] - 12s 120ms/step - loss: 0.2829 - acc: 0.8725 - val_loss: 0.2423 - val_acc: 0.9000\n",
      "Epoch 10/20\n",
      "100/100 [==============================] - 12s 122ms/step - loss: 0.2666 - acc: 0.8875 - val_loss: 0.2524 - val_acc: 0.8980\n",
      "Epoch 11/20\n",
      "100/100 [==============================] - 12s 120ms/step - loss: 0.2607 - acc: 0.8915 - val_loss: 0.2508 - val_acc: 0.8960\n",
      "Epoch 12/20\n",
      "100/100 [==============================] - 12s 121ms/step - loss: 0.2569 - acc: 0.8905 - val_loss: 0.2464 - val_acc: 0.9030\n",
      "Epoch 13/20\n",
      "100/100 [==============================] - 12s 120ms/step - loss: 0.2408 - acc: 0.8980 - val_loss: 0.2578 - val_acc: 0.8890\n",
      "Epoch 14/20\n",
      "100/100 [==============================] - 12s 120ms/step - loss: 0.2478 - acc: 0.8975 - val_loss: 0.2447 - val_acc: 0.9010\n",
      "Epoch 15/20\n",
      "100/100 [==============================] - 12s 123ms/step - loss: 0.2517 - acc: 0.8925 - val_loss: 0.2484 - val_acc: 0.9050\n",
      "Epoch 16/20\n",
      "100/100 [==============================] - 12s 121ms/step - loss: 0.2414 - acc: 0.8965 - val_loss: 0.2643 - val_acc: 0.8920\n",
      "Epoch 17/20\n",
      "100/100 [==============================] - 12s 121ms/step - loss: 0.2266 - acc: 0.8955 - val_loss: 0.2690 - val_acc: 0.8920\n",
      "Epoch 18/20\n",
      "100/100 [==============================] - 12s 120ms/step - loss: 0.2544 - acc: 0.8940 - val_loss: 0.2492 - val_acc: 0.8970\n",
      "Epoch 19/20\n",
      "100/100 [==============================] - 12s 123ms/step - loss: 0.2268 - acc: 0.8995 - val_loss: 0.2529 - val_acc: 0.8970\n",
      "Epoch 20/20\n",
      "100/100 [==============================] - 12s 121ms/step - loss: 0.2259 - acc: 0.9130 - val_loss: 0.2666 - val_acc: 0.8950\n"
     ]
    }
   ],
   "source": [
    "model.compile(loss='binary_crossentropy', \n",
    "              optimizer='adam',\n",
    "              metrics=['acc'])\n",
    "\n",
    "h4 = model.fit(train_generator,\n",
    "               epochs=20,\n",
    "               steps_per_epoch=100,\n",
    "            validation_data = validation_generator,\n",
    "            validation_steps=50)\n",
    "# 모델 저장\n",
    "model.save_weights('./model/cats_and_dogs_004.hdf5')"
   ]
  },
  {
   "cell_type": "code",
   "execution_count": 37,
   "metadata": {},
   "outputs": [
    {
     "data": {
      "image/png": "[encoded data removed]",
      "text/plain": [
       "<Figure size 432x288 with 1 Axes>"
      ]
     },
     "metadata": {
      "needs_background": "light"
     },
     "output_type": "display_data"
    }
   ],
   "source": [
    "import matplotlib.pyplot as plt\n",
    "\n",
    "acc = h4.history['acc']\n",
    "val_acc = h4.history['val_acc']\n",
    "\n",
    "epochs = range(1, len(acc) + 1)\n",
    "\n",
    "plt.plot(epochs, acc, 'r', label = 'acc')\n",
    "plt.plot(epochs, val_acc, 'b', label = 'val_acc')\n",
    "plt.legend()\n",
    "plt.show()"
   ]
  },
  {
   "cell_type": "markdown",
   "metadata": {},
   "source": [
    "### 미세조정을 이용한 전이학습\n",
    "- 미세 조정 : 가져온 모델의 하단 층 일부만 업데이트 되도록 하는것"
   ]
  },
  {
   "cell_type": "code",
   "execution_count": 38,
   "metadata": {},
   "outputs": [],
   "source": [
    "conv_base = VGG16(weights='imagenet',\n",
    "                 include_top = False,\n",
    "                 input_shape = (150, 150, 3))"
   ]
  },
  {
   "cell_type": "code",
   "execution_count": 39,
   "metadata": {
    "scrolled": true
   },
   "outputs": [
    {
     "name": "stdout",
     "output_type": "stream",
     "text": [
      "Model: \"vgg16\"\n",
      "_________________________________________________________________\n",
      "Layer (type)                 Output Shape              Param #   \n",
      "=================================================================\n",
      "input_3 (InputLayer)         [(None, 150, 150, 3)]     0         \n",
      "_________________________________________________________________\n",
      "block1_conv1 (Conv2D)        (None, 150, 150, 64)      1792      \n",
      "_________________________________________________________________\n",
      "block1_conv2 (Conv2D)        (None, 150, 150, 64)      36928     \n",
      "_________________________________________________________________\n",
      "block1_pool (MaxPooling2D)   (None, 75, 75, 64)        0         \n",
      "_________________________________________________________________\n",
      "block2_conv1 (Conv2D)        (None, 75, 75, 128)       73856     \n",
      "_________________________________________________________________\n",
      "block2_conv2 (Conv2D)        (None, 75, 75, 128)       147584    \n",
      "_________________________________________________________________\n",
      "block2_pool (MaxPooling2D)   (None, 37, 37, 128)       0         \n",
      "_________________________________________________________________\n",
      "block3_conv1 (Conv2D)        (None, 37, 37, 256)       295168    \n",
      "_________________________________________________________________\n",
      "block3_conv2 (Conv2D)        (None, 37, 37, 256)       590080    \n",
      "_________________________________________________________________\n",
      "block3_conv3 (Conv2D)        (None, 37, 37, 256)       590080    \n",
      "_________________________________________________________________\n",
      "block3_pool (MaxPooling2D)   (None, 18, 18, 256)       0         \n",
      "_________________________________________________________________\n",
      "block4_conv1 (Conv2D)        (None, 18, 18, 512)       1180160   \n",
      "_________________________________________________________________\n",
      "block4_conv2 (Conv2D)        (None, 18, 18, 512)       2359808   \n",
      "_________________________________________________________________\n",
      "block4_conv3 (Conv2D)        (None, 18, 18, 512)       2359808   \n",
      "_________________________________________________________________\n",
      "block4_pool (MaxPooling2D)   (None, 9, 9, 512)         0         \n",
      "_________________________________________________________________\n",
      "block5_conv1 (Conv2D)        (None, 9, 9, 512)         2359808   \n",
      "_________________________________________________________________\n",
      "block5_conv2 (Conv2D)        (None, 9, 9, 512)         2359808   \n",
      "_________________________________________________________________\n",
      "block5_conv3 (Conv2D)        (None, 9, 9, 512)         2359808   \n",
      "_________________________________________________________________\n",
      "block5_pool (MaxPooling2D)   (None, 4, 4, 512)         0         \n",
      "=================================================================\n",
      "Total params: 14,714,688\n",
      "Trainable params: 14,714,688\n",
      "Non-trainable params: 0\n",
      "_________________________________________________________________\n"
     ]
    }
   ],
   "source": [
    "conv_base.summary()"
   ]
  },
  {
   "cell_type": "code",
   "execution_count": 40,
   "metadata": {},
   "outputs": [],
   "source": [
    "# block 5만 동결을 품\n",
    "conv_base.trainable = True\n",
    "\n",
    "set_trainable = False\n",
    "\n",
    "# layer를 하나씩 가져와 이름이 block5_conv1인 레이어부터 동결을 해제\n",
    "for layer in conv_base.layers :        # 층을 하나씩 가져오자.\n",
    "    if layer.name == 'block5_conv1' :             # 레이어 이름이 'block5_conv1'인지 확인!\n",
    "        set_trainable = True   \n",
    "        \n",
    "    if set_trainable :         # set_Trainable이 true일 때??\n",
    "        layer.trainable = True\n",
    "    else :\n",
    "        layer.trainable = False  # set_Trainable이 false일 때 동결"
   ]
  },
  {
   "cell_type": "code",
   "execution_count": 41,
   "metadata": {},
   "outputs": [
    {
     "name": "stdout",
     "output_type": "stream",
     "text": [
      "WARNING:tensorflow:sample_weight modes were coerced from\n",
      "  ...\n",
      "    to  \n",
      "  ['...']\n",
      "WARNING:tensorflow:sample_weight modes were coerced from\n",
      "  ...\n",
      "    to  \n",
      "  ['...']\n",
      "Train for 100 steps, validate for 50 steps\n",
      "Epoch 1/20\n",
      "100/100 [==============================] - 13s 129ms/step - loss: 0.2529 - acc: 0.8930 - val_loss: 0.2727 - val_acc: 0.8960\n",
      "Epoch 2/20\n",
      "100/100 [==============================] - 12s 122ms/step - loss: 0.2367 - acc: 0.8990 - val_loss: 0.2500 - val_acc: 0.8950\n",
      "Epoch 3/20\n",
      "100/100 [==============================] - 12s 122ms/step - loss: 0.2124 - acc: 0.9125 - val_loss: 0.2501 - val_acc: 0.9020\n",
      "Epoch 4/20\n",
      "100/100 [==============================] - 12s 121ms/step - loss: 0.2439 - acc: 0.8990 - val_loss: 0.2571 - val_acc: 0.8940\n",
      "Epoch 5/20\n",
      "100/100 [==============================] - 12s 123ms/step - loss: 0.2229 - acc: 0.9050 - val_loss: 0.2944 - val_acc: 0.8870\n",
      "Epoch 6/20\n",
      "100/100 [==============================] - 12s 121ms/step - loss: 0.2068 - acc: 0.9105 - val_loss: 0.2526 - val_acc: 0.9050\n",
      "Epoch 7/20\n",
      "100/100 [==============================] - 12s 120ms/step - loss: 0.2247 - acc: 0.8990 - val_loss: 0.2502 - val_acc: 0.9010\n",
      "Epoch 8/20\n",
      "100/100 [==============================] - 12s 120ms/step - loss: 0.2065 - acc: 0.9150 - val_loss: 0.2581 - val_acc: 0.9020\n",
      "Epoch 9/20\n",
      "100/100 [==============================] - 12s 120ms/step - loss: 0.1999 - acc: 0.9140 - val_loss: 0.2589 - val_acc: 0.9020\n",
      "Epoch 10/20\n",
      "100/100 [==============================] - 12s 120ms/step - loss: 0.1974 - acc: 0.9195 - val_loss: 0.2666 - val_acc: 0.8980\n",
      "Epoch 11/20\n",
      "100/100 [==============================] - 12s 120ms/step - loss: 0.2068 - acc: 0.9215 - val_loss: 0.2749 - val_acc: 0.8900\n",
      "Epoch 12/20\n",
      "100/100 [==============================] - 12s 122ms/step - loss: 0.2017 - acc: 0.9145 - val_loss: 0.2583 - val_acc: 0.8940\n",
      "Epoch 13/20\n",
      "100/100 [==============================] - 12s 122ms/step - loss: 0.1899 - acc: 0.9145 - val_loss: 0.2699 - val_acc: 0.9030\n",
      "Epoch 14/20\n",
      "100/100 [==============================] - 12s 122ms/step - loss: 0.2048 - acc: 0.9180 - val_loss: 0.2690 - val_acc: 0.8970\n",
      "Epoch 15/20\n",
      "100/100 [==============================] - 12s 122ms/step - loss: 0.2168 - acc: 0.9020 - val_loss: 0.2874 - val_acc: 0.8870\n",
      "Epoch 16/20\n",
      "100/100 [==============================] - 12s 123ms/step - loss: 0.1990 - acc: 0.9110 - val_loss: 0.2461 - val_acc: 0.9070\n",
      "Epoch 17/20\n",
      "100/100 [==============================] - 12s 121ms/step - loss: 0.1988 - acc: 0.9220 - val_loss: 0.2453 - val_acc: 0.8950\n",
      "Epoch 18/20\n",
      "100/100 [==============================] - 12s 122ms/step - loss: 0.1909 - acc: 0.9225 - val_loss: 0.2589 - val_acc: 0.9020\n",
      "Epoch 19/20\n",
      "100/100 [==============================] - 12s 123ms/step - loss: 0.1878 - acc: 0.9205 - val_loss: 0.2517 - val_acc: 0.9060\n",
      "Epoch 20/20\n",
      "100/100 [==============================] - 12s 122ms/step - loss: 0.1939 - acc: 0.9150 - val_loss: 0.2672 - val_acc: 0.8990\n"
     ]
    }
   ],
   "source": [
    "model.compile(loss='binary_crossentropy', \n",
    "              optimizer='adam',\n",
    "              metrics=['acc'])\n",
    "\n",
    "h5 = model.fit(train_generator,\n",
    "               epochs=20,\n",
    "               steps_per_epoch=100,\n",
    "            validation_data = validation_generator,\n",
    "            validation_steps=50)\n",
    "# 모델 저장\n",
    "model.save_weights('./model/cats_and_dogs_005.hdf5')"
   ]
  },
  {
   "cell_type": "code",
   "execution_count": 42,
   "metadata": {},
   "outputs": [
    {
     "data": {
      "image/png": "[encoded data removed]",
      "text/plain": [
       "<Figure size 432x288 with 1 Axes>"
      ]
     },
     "metadata": {
      "needs_background": "light"
     },
     "output_type": "display_data"
    }
   ],
   "source": [
    "import matplotlib.pyplot as plt\n",
    "\n",
    "acc = h5.history['acc']\n",
    "val_acc = h5.history['val_acc']\n",
    "\n",
    "epochs = range(1, len(acc) + 1)\n",
    "\n",
    "plt.plot(epochs, acc, 'r', label = 'acc')\n",
    "plt.plot(epochs, val_acc, 'b', label = 'val_acc')\n",
    "plt.legend()\n",
    "plt.show()"
   ]
  },
  {
   "cell_type": "code",
   "execution_count": null,
   "metadata": {},
   "outputs": [],
   "source": []
  },
  {
   "cell_type": "code",
   "execution_count": null,
   "metadata": {},
   "outputs": [],
   "source": []
  },
  {
   "cell_type": "code",
   "execution_count": null,
   "metadata": {},
   "outputs": [],
   "source": []
  },
  {
   "cell_type": "code",
   "execution_count": null,
   "metadata": {},
   "outputs": [],
   "source": []
  },
  {
   "cell_type": "code",
   "execution_count": null,
   "metadata": {},
   "outputs": [],
   "source": []
  }
 ],
 "metadata": {
  "kernelspec": {
   "display_name": "Python 3",
   "language": "python",
   "name": "python3"
  },
  "language_info": {
   "codemirror_mode": {
    "name": "ipython",
    "version": 3
   },
   "file_extension": ".py",
   "mimetype": "text/x-python",
   "name": "python",
   "nbconvert_exporter": "python",
   "pygments_lexer": "ipython3",
   "version": "3.6.12"
  }
 },
 "nbformat": 4,
 "nbformat_minor": 4
}
