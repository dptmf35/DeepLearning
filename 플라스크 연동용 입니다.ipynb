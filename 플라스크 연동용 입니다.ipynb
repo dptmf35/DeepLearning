{
 "cells": [
  {
   "cell_type": "code",
   "execution_count": 2,
   "metadata": {},
   "outputs": [],
   "source": [
    "from PIL import Image\n",
    "import numpy as np\n",
    "from tensorflow.keras.models import load_model"
   ]
  },
  {
   "cell_type": "markdown",
   "metadata": {},
   "source": [
    "### 이파리 "
   ]
  },
  {
   "cell_type": "code",
   "execution_count": 8,
   "metadata": {},
   "outputs": [],
   "source": [
    "from tensorflow.keras.models import load_model\n",
    "\n",
    "best_model_dir = '.\\\\deep_data\\\\model3\\\\' #최적 모델이 있는 경로\n",
    "\n",
    "path2 = best_model_dir + \"mymodel_026-0.9500.hd5\"          #최적 모델 이름\n",
    "\n",
    "model = load_model(path2) # 모델 로딩"
   ]
  },
  {
   "cell_type": "code",
   "execution_count": 9,
   "metadata": {},
   "outputs": [],
   "source": [
    "def predict_leaf_img(img_dir) : #매개변수 : 이미지 디렉토리\n",
    "    a = Image.open(img_dir).resize((150, 150))\n",
    "    img_array = np.array(a)\n",
    "    img_array = img_array/255.0\n",
    "    img_array = img_array.reshape((1,150,150,3))\n",
    "    img_pred = model.predict(img_array)\n",
    "    if img_pred.argmax() == 0 :\n",
    "        return '정상입니다.'\n",
    "    elif img_pred.argmax() == 1 :\n",
    "        predict_percentage = img_pred.max() * 100\n",
    "        return '%0.2f'%predict_percentage + '% 확률로 탄저병 검출'\n",
    "    elif img_pred.argmax() == 2 :\n",
    "        predict_percentage = img_pred.max() * 100\n",
    "        return '%0.2f'%predict_percentage + '% 확률로 흰가루병 검출'    "
   ]
  },
  {
   "cell_type": "markdown",
   "metadata": {},
   "source": [
    "### 딸기 열매"
   ]
  },
  {
   "cell_type": "code",
   "execution_count": 5,
   "metadata": {},
   "outputs": [
    {
     "ename": "OSError",
     "evalue": "SavedModel file does not exist at: .\\model\\mymodel_017-0.9580.hd5/{saved_model.pbtxt|saved_model.pb}",
     "output_type": "error",
     "traceback": [
      "\u001b[1;31m---------------------------------------------------------------------------\u001b[0m",
      "\u001b[1;31mOSError\u001b[0m                                   Traceback (most recent call last)",
      "\u001b[1;32m<ipython-input-5-4a39f1dba749>\u001b[0m in \u001b[0;36m<module>\u001b[1;34m\u001b[0m\n\u001b[0;32m      3\u001b[0m \u001b[0mbest_model_dir\u001b[0m \u001b[1;33m=\u001b[0m \u001b[1;34m'.\\\\model\\\\'\u001b[0m \u001b[1;31m#최적 모델이 있는 경로\u001b[0m\u001b[1;33m\u001b[0m\u001b[1;33m\u001b[0m\u001b[0m\n\u001b[0;32m      4\u001b[0m \u001b[0mpath2\u001b[0m \u001b[1;33m=\u001b[0m \u001b[0mbest_model_dir\u001b[0m \u001b[1;33m+\u001b[0m \u001b[1;34m\"mymodel_017-0.9580.hd5\"\u001b[0m          \u001b[1;31m#최적 모델 이름\u001b[0m\u001b[1;33m\u001b[0m\u001b[1;33m\u001b[0m\u001b[0m\n\u001b[1;32m----> 5\u001b[1;33m \u001b[0mmodel\u001b[0m \u001b[1;33m=\u001b[0m \u001b[0mload_model\u001b[0m\u001b[1;33m(\u001b[0m\u001b[0mpath2\u001b[0m\u001b[1;33m)\u001b[0m \u001b[1;31m# 모델 로딩\u001b[0m\u001b[1;33m\u001b[0m\u001b[1;33m\u001b[0m\u001b[0m\n\u001b[0m",
      "\u001b[1;32m~\\anaconda3\\envs\\deep01\\lib\\site-packages\\tensorflow_core\\python\\keras\\saving\\save.py\u001b[0m in \u001b[0;36mload_model\u001b[1;34m(filepath, custom_objects, compile)\u001b[0m\n\u001b[0;32m    147\u001b[0m \u001b[1;33m\u001b[0m\u001b[0m\n\u001b[0;32m    148\u001b[0m   \u001b[1;32mif\u001b[0m \u001b[0misinstance\u001b[0m\u001b[1;33m(\u001b[0m\u001b[0mfilepath\u001b[0m\u001b[1;33m,\u001b[0m \u001b[0msix\u001b[0m\u001b[1;33m.\u001b[0m\u001b[0mstring_types\u001b[0m\u001b[1;33m)\u001b[0m\u001b[1;33m:\u001b[0m\u001b[1;33m\u001b[0m\u001b[1;33m\u001b[0m\u001b[0m\n\u001b[1;32m--> 149\u001b[1;33m     \u001b[0mloader_impl\u001b[0m\u001b[1;33m.\u001b[0m\u001b[0mparse_saved_model\u001b[0m\u001b[1;33m(\u001b[0m\u001b[0mfilepath\u001b[0m\u001b[1;33m)\u001b[0m\u001b[1;33m\u001b[0m\u001b[1;33m\u001b[0m\u001b[0m\n\u001b[0m\u001b[0;32m    150\u001b[0m     \u001b[1;32mreturn\u001b[0m \u001b[0msaved_model_load\u001b[0m\u001b[1;33m.\u001b[0m\u001b[0mload\u001b[0m\u001b[1;33m(\u001b[0m\u001b[0mfilepath\u001b[0m\u001b[1;33m,\u001b[0m \u001b[0mcompile\u001b[0m\u001b[1;33m)\u001b[0m\u001b[1;33m\u001b[0m\u001b[1;33m\u001b[0m\u001b[0m\n\u001b[0;32m    151\u001b[0m \u001b[1;33m\u001b[0m\u001b[0m\n",
      "\u001b[1;32m~\\anaconda3\\envs\\deep01\\lib\\site-packages\\tensorflow_core\\python\\saved_model\\loader_impl.py\u001b[0m in \u001b[0;36mparse_saved_model\u001b[1;34m(export_dir)\u001b[0m\n\u001b[0;32m     81\u001b[0m                   (export_dir,\n\u001b[0;32m     82\u001b[0m                    \u001b[0mconstants\u001b[0m\u001b[1;33m.\u001b[0m\u001b[0mSAVED_MODEL_FILENAME_PBTXT\u001b[0m\u001b[1;33m,\u001b[0m\u001b[1;33m\u001b[0m\u001b[1;33m\u001b[0m\u001b[0m\n\u001b[1;32m---> 83\u001b[1;33m                    constants.SAVED_MODEL_FILENAME_PB))\n\u001b[0m\u001b[0;32m     84\u001b[0m \u001b[1;33m\u001b[0m\u001b[0m\n\u001b[0;32m     85\u001b[0m \u001b[1;33m\u001b[0m\u001b[0m\n",
      "\u001b[1;31mOSError\u001b[0m: SavedModel file does not exist at: .\\model\\mymodel_017-0.9580.hd5/{saved_model.pbtxt|saved_model.pb}"
     ]
    }
   ],
   "source": [
    "from tensorflow.keras.models import load_model\n",
    "\n",
    "best_model_dir = '.\\\\model\\\\' #최적 모델이 있는 경로\n",
    "path2 = best_model_dir + \"mymodel_017-0.9580.hd5\"          #최적 모델 이름\n",
    "model = load_model(path2) # 모델 로딩"
   ]
  },
  {
   "cell_type": "code",
   "execution_count": 6,
   "metadata": {},
   "outputs": [],
   "source": [
    "def predict_berry_img(img_dir) : #매개변수 : 이미지 디렉토리\n",
    "    a = Image.open(img_dir).resize((150, 150))\n",
    "    img_array = np.array(a)\n",
    "    img_array = img_array/255.0\n",
    "    img_array = img_array.reshape((1,150,150,3))\n",
    "    img_pred = model.predict(img_array)\n",
    "    if img_pred[0][0] < 0.6 :\n",
    "        return '정상 딸기입니다.'\n",
    "    else :\n",
    "        predict_percentage = img_pred[0][0] * 100 \n",
    "        \n",
    "        return '%0.2f'%predict_percentage + '% 확률로 잿빛곰팡이병 검출'"
   ]
  },
  {
   "cell_type": "markdown",
   "metadata": {},
   "source": [
    "### test"
   ]
  },
  {
   "cell_type": "code",
   "execution_count": 10,
   "metadata": {},
   "outputs": [],
   "source": [
    "def predict_leaf_img(img_dir) : #매개변수 : 이미지 디렉토리\n",
    "    a = Image.open(img_dir).resize((150, 150))\n",
    "    img_array = np.array(a)\n",
    "    img_array = img_array/255.0\n",
    "    img_array = img_array.reshape((1,150,150,3))\n",
    "    img_pred = model.predict(img_array)\n",
    "    if img_pred.argmax() == 0 :\n",
    "        return '정상입니다.'\n",
    "    elif img_pred.argmax() == 1 :\n",
    "        predict_percentage = img_pred.max() * 100\n",
    "        return '%0.2f'%predict_percentage + '% 확률로 탄저병 검출'\n",
    "    elif img_pred.argmax() == 2 :\n",
    "        predict_percentage = img_pred.max() * 100\n",
    "        return '%0.2f'%predict_percentage + '% 확률로 흰가루병 검출'    "
   ]
  },
  {
   "cell_type": "code",
   "execution_count": 12,
   "metadata": {},
   "outputs": [
    {
     "data": {
      "text/plain": [
       "'99.96% 확률로 탄저병 검출'"
      ]
     },
     "execution_count": 12,
     "metadata": {},
     "output_type": "execute_result"
    }
   ],
   "source": [
    "predict_leaf_img('./deep_data/input_leaf/tan (4).jpg')\n",
    "#predict_leaf_img('./deep_data/input_leaf/white (4).jpg')"
   ]
  },
  {
   "cell_type": "code",
   "execution_count": null,
   "metadata": {},
   "outputs": [],
   "source": [
    "#predict_img('./deep_data/input_berry/berry81.jpg')\n",
    "#predict_img('C:\\\\Users\\\\SMT002\\\\Desktop\\\\deep_data\\\\gompang\\\\31.jpg')"
   ]
  }
 ],
 "metadata": {
  "kernelspec": {
   "display_name": "Python 3",
   "language": "python",
   "name": "python3"
  },
  "language_info": {
   "codemirror_mode": {
    "name": "ipython",
    "version": 3
   },
   "file_extension": ".py",
   "mimetype": "text/x-python",
   "name": "python",
   "nbconvert_exporter": "python",
   "pygments_lexer": "ipython3",
   "version": "3.6.12"
  }
 },
 "nbformat": 4,
 "nbformat_minor": 4
}
